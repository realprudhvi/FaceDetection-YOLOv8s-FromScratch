{
 "cells": [
  {
   "cell_type": "markdown",
   "metadata": {},
   "source": [
    "## Libraries to Install for Local VS Code Environment\n",
    "\n",
    "To run the project on your local machine using VS Code, open your Command Prompt or Terminal and execute the following pip command.\n",
    "\n",
    "```bash\n",
    "pip install ultralytics torch torchvision opencv-python matplotlib Pillow ipywidgets\n",
    "```\n",
    "\n",
    "\n",
    "## Library Descriptions\n",
    "\n",
    "**ultralytics**: The main library containing the YOLO model architecture and the `.train()` and `.predict()` functions.\n",
    "\n",
    "**torch & torchvision**: The core PyTorch deep learning framework that ultralytics is built upon.\n",
    "\n",
    "**opencv-python**: Essential for all webcam and video operations, including camera access (`cv2.VideoCapture`) and displaying the live video window (`cv2.imshow`).\n",
    "\n",
    "**matplotlib**: A plotting library used to generate the side-by-side comparisons of your original and predicted images.\n",
    "\n",
    "**Pillow**: A fundamental image handling library used by other packages to open and process various file formats (`.jpg`, `.png`, `.webp`).\n",
    "\n",
    "**ipywidgets**: The library that creates the interactive HTML buttons, text boxes, and output areas within your Jupyter Notebook."
   ]
  },
  {
   "cell_type": "markdown",
   "metadata": {},
   "source": [
    "### Train YOLOv8 for Face Dectection\n",
    "\n",
    "<h3><b>Dataset link</b> : <a href=\"https://www.kaggle.com/datasets/canomercik/wider-face-dataset-for-yolov12-format\" target=\"_blank\">https://www.kaggle.com/datasets/canomercik/wider-face-dataset-for-yolov12-format</a></h3>"
   ]
  },
  {
   "cell_type": "code",
   "execution_count": 1,
   "metadata": {
    "_cell_guid": "b1076dfc-b9ad-4769-8c92-a6c4dae69d19",
    "_uuid": "8f2839f25d086af736a60e9eeb907d3b93b6e0e5",
    "execution": {
     "iopub.execute_input": "2025-07-27T04:50:40.895446Z",
     "iopub.status.busy": "2025-07-27T04:50:40.895230Z",
     "iopub.status.idle": "2025-07-27T04:52:00.776102Z",
     "shell.execute_reply": "2025-07-27T04:52:00.775217Z",
     "shell.execute_reply.started": "2025-07-27T04:50:40.895428Z"
    },
    "trusted": true
   },
   "outputs": [],
   "source": [
    "from IPython.display import clear_output\n",
    "!pip install ultralytics --upgrade\n",
    "clear_output()"
   ]
  },
  {
   "cell_type": "code",
   "execution_count": null,
   "metadata": {
    "execution": {
     "iopub.execute_input": "2025-07-27T04:59:56.816124Z",
     "iopub.status.busy": "2025-07-27T04:59:56.815284Z",
     "iopub.status.idle": "2025-07-27T08:54:37.105738Z",
     "shell.execute_reply": "2025-07-27T08:54:37.104849Z",
     "shell.execute_reply.started": "2025-07-27T04:59:56.816079Z"
    },
    "trusted": true
   },
   "outputs": [
    {
     "name": "stdout",
     "output_type": "stream",
     "text": [
      "Ultralytics 8.3.170 🚀 Python-3.11.13 torch-2.6.0+cu124 CUDA:0 (Tesla P100-PCIE-16GB, 16269MiB)\n",
      "\u001b[34m\u001b[1mengine/trainer: \u001b[0magnostic_nms=False, amp=True, augment=False, auto_augment=randaugment, batch=16, bgr=0.0, box=7.5, cache=True, cfg=None, classes=None, close_mosaic=15, cls=0.5, conf=None, copy_paste=0.0, copy_paste_mode=flip, cos_lr=True, cutmix=0.0, data=/kaggle/input/wider-face-dataset-for-yolov12-format/data.yaml, degrees=0.0, deterministic=True, device=0, dfl=1.5, dnn=False, dropout=0.0, dynamic=False, embed=None, epochs=50, erasing=0.4, exist_ok=False, fliplr=0.5, flipud=0.0, format=torchscript, fraction=1.0, freeze=None, half=False, hsv_h=0.015, hsv_s=0.7, hsv_v=0.4, imgsz=640, int8=False, iou=0.7, keras=False, kobj=1.0, line_width=None, lr0=0.005, lrf=0.01, mask_ratio=4, max_det=300, mixup=0.0, mode=train, model=yolov8s.yaml, momentum=0.937, mosaic=1.0, multi_scale=False, name=tuned3, nbs=64, nms=False, opset=None, optimize=False, optimizer=SGD, overlap_mask=True, patience=20, perspective=0.0, plots=True, pose=12.0, pretrained=False, profile=False, project=face-yolov8, rect=False, resume=False, retina_masks=False, save=True, save_conf=False, save_crop=False, save_dir=face-yolov8/tuned3, save_frames=False, save_json=False, save_period=5, save_txt=False, scale=0.5, seed=0, shear=0.0, show=False, show_boxes=True, show_conf=True, show_labels=True, simplify=True, single_cls=False, source=None, split=val, stream_buffer=False, task=detect, time=None, tracker=botsort.yaml, translate=0.1, val=True, verbose=True, vid_stride=1, visualize=False, warmup_bias_lr=0.1, warmup_epochs=3.0, warmup_momentum=0.8, weight_decay=0.0005, workers=2, workspace=None\n",
      "Overriding model.yaml nc=80 with nc=1\n",
      "\n",
      "                   from  n    params  module                                       arguments                     \n",
      "  0                  -1  1       928  ultralytics.nn.modules.conv.Conv             [3, 32, 3, 2]                 \n",
      "  1                  -1  1     18560  ultralytics.nn.modules.conv.Conv             [32, 64, 3, 2]                \n",
      "  2                  -1  1     29056  ultralytics.nn.modules.block.C2f             [64, 64, 1, True]             \n",
      "  3                  -1  1     73984  ultralytics.nn.modules.conv.Conv             [64, 128, 3, 2]               \n",
      "  4                  -1  2    197632  ultralytics.nn.modules.block.C2f             [128, 128, 2, True]           \n",
      "  5                  -1  1    295424  ultralytics.nn.modules.conv.Conv             [128, 256, 3, 2]              \n",
      "  6                  -1  2    788480  ultralytics.nn.modules.block.C2f             [256, 256, 2, True]           \n",
      "  7                  -1  1   1180672  ultralytics.nn.modules.conv.Conv             [256, 512, 3, 2]              \n",
      "  8                  -1  1   1838080  ultralytics.nn.modules.block.C2f             [512, 512, 1, True]           \n",
      "  9                  -1  1    656896  ultralytics.nn.modules.block.SPPF            [512, 512, 5]                 \n",
      " 10                  -1  1         0  torch.nn.modules.upsampling.Upsample         [None, 2, 'nearest']          \n",
      " 11             [-1, 6]  1         0  ultralytics.nn.modules.conv.Concat           [1]                           \n",
      " 12                  -1  1    591360  ultralytics.nn.modules.block.C2f             [768, 256, 1]                 \n",
      " 13                  -1  1         0  torch.nn.modules.upsampling.Upsample         [None, 2, 'nearest']          \n",
      " 14             [-1, 4]  1         0  ultralytics.nn.modules.conv.Concat           [1]                           \n",
      " 15                  -1  1    148224  ultralytics.nn.modules.block.C2f             [384, 128, 1]                 \n",
      " 16                  -1  1    147712  ultralytics.nn.modules.conv.Conv             [128, 128, 3, 2]              \n",
      " 17            [-1, 12]  1         0  ultralytics.nn.modules.conv.Concat           [1]                           \n",
      " 18                  -1  1    493056  ultralytics.nn.modules.block.C2f             [384, 256, 1]                 \n",
      " 19                  -1  1    590336  ultralytics.nn.modules.conv.Conv             [256, 256, 3, 2]              \n",
      " 20             [-1, 9]  1         0  ultralytics.nn.modules.conv.Concat           [1]                           \n",
      " 21                  -1  1   1969152  ultralytics.nn.modules.block.C2f             [768, 512, 1]                 \n",
      " 22        [15, 18, 21]  1   2116435  ultralytics.nn.modules.head.Detect           [1, [128, 256, 512]]          \n",
      "YOLOv8s summary: 129 layers, 11,135,987 parameters, 11,135,971 gradients, 28.6 GFLOPs\n",
      "\n",
      "Freezing layer 'model.22.dfl.conv.weight'\n",
      "\u001b[34m\u001b[1mAMP: \u001b[0mrunning Automatic Mixed Precision (AMP) checks...\n",
      "\u001b[34m\u001b[1mAMP: \u001b[0mchecks passed ✅\n",
      "\u001b[34m\u001b[1mtrain: \u001b[0mFast image access ✅ (ping: 0.0±0.0 ms, read: 112.7±27.0 MB/s, size: 101.9 KB)\n"
     ]
    },
    {
     "name": "stderr",
     "output_type": "stream",
     "text": [
      "\u001b[34m\u001b[1mtrain: \u001b[0mScanning /kaggle/input/wider-face-dataset-for-yolov12-format/WIDER Face Dataset For YOLOv12/WIDER Face Dataset For YOLOv12/train/labels... 12880 images, 4 backgrounds, 1 corrupt: 100%|██████████| 12880/12880 [00:12<00:00, 991.92it/s] "
     ]
    },
    {
     "name": "stdout",
     "output_type": "stream",
     "text": [
      "\u001b[34m\u001b[1mtrain: \u001b[0m/kaggle/input/wider-face-dataset-for-yolov12-format/WIDER Face Dataset For YOLOv12/WIDER Face Dataset For YOLOv12/train/images/2_Demonstration_Protesters_2_231.jpg: 1 duplicate labels removed\n",
      "\u001b[34m\u001b[1mtrain: \u001b[0m/kaggle/input/wider-face-dataset-for-yolov12-format/WIDER Face Dataset For YOLOv12/WIDER Face Dataset For YOLOv12/train/images/37_Soccer_Soccer_37_851.jpg: 1 duplicate labels removed\n",
      "\u001b[34m\u001b[1mtrain: \u001b[0m/kaggle/input/wider-face-dataset-for-yolov12-format/WIDER Face Dataset For YOLOv12/WIDER Face Dataset For YOLOv12/train/images/54_Rescue_rescuepeople_54_29.jpg: ignoring corrupt image/label: non-normalized or out of bounds coordinates [     1.0254]\n",
      "\u001b[34m\u001b[1mtrain: \u001b[0m/kaggle/input/wider-face-dataset-for-yolov12-format/WIDER Face Dataset For YOLOv12/WIDER Face Dataset For YOLOv12/train/images/7_Cheering_Cheering_7_17.jpg: 1 duplicate labels removed\n"
     ]
    },
    {
     "name": "stderr",
     "output_type": "stream",
     "text": [
      "\n"
     ]
    },
    {
     "name": "stdout",
     "output_type": "stream",
     "text": [
      "WARNING ⚠️ \u001b[34m\u001b[1mtrain: \u001b[0mCache directory /kaggle/input/wider-face-dataset-for-yolov12-format/WIDER Face Dataset For YOLOv12/WIDER Face Dataset For YOLOv12/train is not writeable, cache not saved.\n",
      "WARNING ⚠️ \u001b[34m\u001b[1mtrain: \u001b[0m15.9GB RAM required to cache images with 50% safety margin but only 14.5/31.4GB available, not caching images\n",
      "\u001b[34m\u001b[1malbumentations: \u001b[0mBlur(p=0.01, blur_limit=(3, 7)), MedianBlur(p=0.01, blur_limit=(3, 7)), ToGray(p=0.01, method='weighted_average', num_output_channels=3), CLAHE(p=0.01, clip_limit=(1.0, 4.0), tile_grid_size=(8, 8))\n",
      "\u001b[34m\u001b[1mval: \u001b[0mFast image access ✅ (ping: 0.0±0.0 ms, read: 122.3±82.5 MB/s, size: 117.6 KB)\n"
     ]
    },
    {
     "name": "stderr",
     "output_type": "stream",
     "text": [
      "\u001b[34m\u001b[1mval: \u001b[0mScanning /kaggle/input/wider-face-dataset-for-yolov12-format/WIDER Face Dataset For YOLOv12/WIDER Face Dataset For YOLOv12/val/labels... 3226 images, 0 backgrounds, 0 corrupt: 100%|██████████| 3226/3226 [00:03<00:00, 1046.03it/s]"
     ]
    },
    {
     "name": "stdout",
     "output_type": "stream",
     "text": [
      "\u001b[34m\u001b[1mval: \u001b[0m/kaggle/input/wider-face-dataset-for-yolov12-format/WIDER Face Dataset For YOLOv12/WIDER Face Dataset For YOLOv12/val/images/21_Festival_Festival_21_604.jpg: 1 duplicate labels removed\n"
     ]
    },
    {
     "name": "stderr",
     "output_type": "stream",
     "text": [
      "\n"
     ]
    },
    {
     "name": "stdout",
     "output_type": "stream",
     "text": [
      "WARNING ⚠️ \u001b[34m\u001b[1mval: \u001b[0mCache directory /kaggle/input/wider-face-dataset-for-yolov12-format/WIDER Face Dataset For YOLOv12/WIDER Face Dataset For YOLOv12/val is not writeable, cache not saved.\n",
      "WARNING ⚠️ cache='ram' may produce non-deterministic training results. Consider cache='disk' as a deterministic alternative if your disk space allows.\n"
     ]
    },
    {
     "name": "stderr",
     "output_type": "stream",
     "text": [
      "\u001b[34m\u001b[1mval: \u001b[0mCaching images (2.6GB RAM): 100%|██████████| 3226/3226 [00:09<00:00, 346.36it/s]\n"
     ]
    },
    {
     "name": "stdout",
     "output_type": "stream",
     "text": [
      "Plotting labels to face-yolov8/tuned3/labels.jpg... \n",
      "\u001b[34m\u001b[1moptimizer:\u001b[0m SGD(lr=0.005, momentum=0.937) with parameter groups 57 weight(decay=0.0), 64 weight(decay=0.0005), 63 bias(decay=0.0)\n",
      "Image sizes 640 train, 640 val\n",
      "Using 2 dataloader workers\n",
      "Logging results to \u001b[1mface-yolov8/tuned3\u001b[0m\n",
      "Starting training for 50 epochs...\n",
      "\n",
      "      Epoch    GPU_mem   box_loss   cls_loss   dfl_loss  Instances       Size\n"
     ]
    },
    {
     "name": "stderr",
     "output_type": "stream",
     "text": [
      "       1/50      10.2G      3.881      3.302      2.769        238        640: 100%|██████████| 805/805 [04:23<00:00,  3.06it/s]\n",
      "                 Class     Images  Instances      Box(P          R      mAP50  mAP50-95): 100%|██████████| 101/101 [00:26<00:00,  3.80it/s]\n"
     ]
    },
    {
     "name": "stdout",
     "output_type": "stream",
     "text": [
      "                   all       3226      39707      0.218       0.13     0.0813     0.0278\n",
      "\n",
      "      Epoch    GPU_mem   box_loss   cls_loss   dfl_loss  Instances       Size\n"
     ]
    },
    {
     "name": "stderr",
     "output_type": "stream",
     "text": [
      "       2/50      13.8G      2.503       1.85      1.644        183        640: 100%|██████████| 805/805 [04:16<00:00,  3.14it/s]\n",
      "                 Class     Images  Instances      Box(P          R      mAP50  mAP50-95): 100%|██████████| 101/101 [00:24<00:00,  4.16it/s]\n"
     ]
    },
    {
     "name": "stdout",
     "output_type": "stream",
     "text": [
      "                   all       3226      39707       0.55       0.28      0.294      0.129\n",
      "\n",
      "      Epoch    GPU_mem   box_loss   cls_loss   dfl_loss  Instances       Size\n"
     ]
    },
    {
     "name": "stderr",
     "output_type": "stream",
     "text": [
      "       3/50      11.2G      2.095      1.417      1.378        159        640: 100%|██████████| 805/805 [04:15<00:00,  3.15it/s]\n",
      "                 Class     Images  Instances      Box(P          R      mAP50  mAP50-95): 100%|██████████| 101/101 [00:24<00:00,  4.21it/s]\n"
     ]
    },
    {
     "name": "stdout",
     "output_type": "stream",
     "text": [
      "                   all       3226      39707       0.68      0.342      0.381      0.183\n",
      "\n",
      "      Epoch    GPU_mem   box_loss   cls_loss   dfl_loss  Instances       Size\n"
     ]
    },
    {
     "name": "stderr",
     "output_type": "stream",
     "text": [
      "       4/50      12.2G      1.879      1.216      1.275        157        640: 100%|██████████| 805/805 [04:14<00:00,  3.17it/s]\n",
      "                 Class     Images  Instances      Box(P          R      mAP50  mAP50-95): 100%|██████████| 101/101 [00:23<00:00,  4.22it/s]\n"
     ]
    },
    {
     "name": "stdout",
     "output_type": "stream",
     "text": [
      "                   all       3226      39707      0.722      0.408      0.462      0.222\n",
      "\n",
      "      Epoch    GPU_mem   box_loss   cls_loss   dfl_loss  Instances       Size\n"
     ]
    },
    {
     "name": "stderr",
     "output_type": "stream",
     "text": [
      "       5/50      13.5G      1.757      1.077       1.21        642        640: 100%|██████████| 805/805 [04:14<00:00,  3.17it/s]\n",
      "                 Class     Images  Instances      Box(P          R      mAP50  mAP50-95): 100%|██████████| 101/101 [00:24<00:00,  4.14it/s]\n"
     ]
    },
    {
     "name": "stdout",
     "output_type": "stream",
     "text": [
      "                   all       3226      39707      0.756      0.447      0.504      0.252\n",
      "\n",
      "      Epoch    GPU_mem   box_loss   cls_loss   dfl_loss  Instances       Size\n"
     ]
    },
    {
     "name": "stderr",
     "output_type": "stream",
     "text": [
      "       6/50      15.2G      1.706      1.017      1.185        220        640: 100%|██████████| 805/805 [04:15<00:00,  3.15it/s]\n",
      "                 Class     Images  Instances      Box(P          R      mAP50  mAP50-95): 100%|██████████| 101/101 [00:23<00:00,  4.22it/s]\n"
     ]
    },
    {
     "name": "stdout",
     "output_type": "stream",
     "text": [
      "                   all       3226      39707      0.755      0.456      0.517      0.259\n",
      "\n",
      "      Epoch    GPU_mem   box_loss   cls_loss   dfl_loss  Instances       Size\n"
     ]
    },
    {
     "name": "stderr",
     "output_type": "stream",
     "text": [
      "       7/50      15.3G      1.642     0.9567      1.163        258        640: 100%|██████████| 805/805 [04:14<00:00,  3.16it/s]\n",
      "                 Class     Images  Instances      Box(P          R      mAP50  mAP50-95): 100%|██████████| 101/101 [00:23<00:00,  4.23it/s]\n"
     ]
    },
    {
     "name": "stdout",
     "output_type": "stream",
     "text": [
      "                   all       3226      39707       0.78      0.478      0.544      0.276\n",
      "\n",
      "      Epoch    GPU_mem   box_loss   cls_loss   dfl_loss  Instances       Size\n"
     ]
    },
    {
     "name": "stderr",
     "output_type": "stream",
     "text": [
      "       8/50      11.1G      1.612     0.9266      1.157        611        640: 100%|██████████| 805/805 [04:13<00:00,  3.18it/s]\n",
      "                 Class     Images  Instances      Box(P          R      mAP50  mAP50-95): 100%|██████████| 101/101 [00:23<00:00,  4.25it/s]\n"
     ]
    },
    {
     "name": "stdout",
     "output_type": "stream",
     "text": [
      "                   all       3226      39707      0.787      0.487      0.554      0.286\n",
      "\n",
      "      Epoch    GPU_mem   box_loss   cls_loss   dfl_loss  Instances       Size\n"
     ]
    },
    {
     "name": "stderr",
     "output_type": "stream",
     "text": [
      "       9/50        13G      1.596     0.9015      1.141        197        640: 100%|██████████| 805/805 [04:13<00:00,  3.17it/s]\n",
      "                 Class     Images  Instances      Box(P          R      mAP50  mAP50-95): 100%|██████████| 101/101 [00:23<00:00,  4.26it/s]\n"
     ]
    },
    {
     "name": "stdout",
     "output_type": "stream",
     "text": [
      "                   all       3226      39707      0.787        0.5      0.568      0.298\n",
      "\n",
      "      Epoch    GPU_mem   box_loss   cls_loss   dfl_loss  Instances       Size\n"
     ]
    },
    {
     "name": "stderr",
     "output_type": "stream",
     "text": [
      "      10/50      10.6G      1.568     0.8782      1.133        325        640: 100%|██████████| 805/805 [04:13<00:00,  3.17it/s]\n",
      "                 Class     Images  Instances      Box(P          R      mAP50  mAP50-95): 100%|██████████| 101/101 [00:23<00:00,  4.23it/s]\n"
     ]
    },
    {
     "name": "stdout",
     "output_type": "stream",
     "text": [
      "                   all       3226      39707      0.804       0.51      0.581      0.303\n",
      "\n",
      "      Epoch    GPU_mem   box_loss   cls_loss   dfl_loss  Instances       Size\n"
     ]
    },
    {
     "name": "stderr",
     "output_type": "stream",
     "text": [
      "      11/50      9.88G      1.544     0.8567      1.125         92        640: 100%|██████████| 805/805 [04:14<00:00,  3.16it/s]\n",
      "                 Class     Images  Instances      Box(P          R      mAP50  mAP50-95): 100%|██████████| 101/101 [00:23<00:00,  4.23it/s]\n"
     ]
    },
    {
     "name": "stdout",
     "output_type": "stream",
     "text": [
      "                   all       3226      39707      0.808      0.519      0.589      0.305\n",
      "\n",
      "      Epoch    GPU_mem   box_loss   cls_loss   dfl_loss  Instances       Size\n"
     ]
    },
    {
     "name": "stderr",
     "output_type": "stream",
     "text": [
      "      12/50      15.4G      1.546     0.8487      1.124        433        640: 100%|██████████| 805/805 [04:14<00:00,  3.16it/s]\n",
      "                 Class     Images  Instances      Box(P          R      mAP50  mAP50-95): 100%|██████████| 101/101 [00:24<00:00,  4.14it/s]\n"
     ]
    },
    {
     "name": "stdout",
     "output_type": "stream",
     "text": [
      "                   all       3226      39707      0.797      0.521      0.589      0.312\n",
      "\n",
      "      Epoch    GPU_mem   box_loss   cls_loss   dfl_loss  Instances       Size\n"
     ]
    },
    {
     "name": "stderr",
     "output_type": "stream",
     "text": [
      "      13/50      10.4G      1.519     0.8265      1.114        199        640: 100%|██████████| 805/805 [04:15<00:00,  3.15it/s]\n",
      "                 Class     Images  Instances      Box(P          R      mAP50  mAP50-95): 100%|██████████| 101/101 [00:24<00:00,  4.16it/s]\n"
     ]
    },
    {
     "name": "stdout",
     "output_type": "stream",
     "text": [
      "                   all       3226      39707      0.813      0.526      0.597      0.315\n",
      "\n",
      "      Epoch    GPU_mem   box_loss   cls_loss   dfl_loss  Instances       Size\n"
     ]
    },
    {
     "name": "stderr",
     "output_type": "stream",
     "text": [
      "      14/50      12.7G      1.516     0.8154      1.108        248        640: 100%|██████████| 805/805 [04:17<00:00,  3.13it/s]\n",
      "                 Class     Images  Instances      Box(P          R      mAP50  mAP50-95): 100%|██████████| 101/101 [00:24<00:00,  4.12it/s]\n"
     ]
    },
    {
     "name": "stdout",
     "output_type": "stream",
     "text": [
      "                   all       3226      39707      0.815      0.538      0.611      0.323\n",
      "\n",
      "      Epoch    GPU_mem   box_loss   cls_loss   dfl_loss  Instances       Size\n"
     ]
    },
    {
     "name": "stderr",
     "output_type": "stream",
     "text": [
      "      15/50      15.3G      1.503     0.8122      1.104        216        640: 100%|██████████| 805/805 [04:15<00:00,  3.15it/s]\n",
      "                 Class     Images  Instances      Box(P          R      mAP50  mAP50-95): 100%|██████████| 101/101 [00:23<00:00,  4.21it/s]\n"
     ]
    },
    {
     "name": "stdout",
     "output_type": "stream",
     "text": [
      "                   all       3226      39707      0.818      0.535      0.609      0.321\n",
      "\n",
      "      Epoch    GPU_mem   box_loss   cls_loss   dfl_loss  Instances       Size\n"
     ]
    },
    {
     "name": "stderr",
     "output_type": "stream",
     "text": [
      "      16/50        13G      1.492     0.7979      1.098        167        640: 100%|██████████| 805/805 [04:14<00:00,  3.17it/s]\n",
      "                 Class     Images  Instances      Box(P          R      mAP50  mAP50-95): 100%|██████████| 101/101 [00:23<00:00,  4.24it/s]\n"
     ]
    },
    {
     "name": "stdout",
     "output_type": "stream",
     "text": [
      "                   all       3226      39707      0.822      0.547      0.618      0.327\n",
      "\n",
      "      Epoch    GPU_mem   box_loss   cls_loss   dfl_loss  Instances       Size\n"
     ]
    },
    {
     "name": "stderr",
     "output_type": "stream",
     "text": [
      "      17/50      10.5G      1.489     0.7885      1.097        232        640: 100%|██████████| 805/805 [04:15<00:00,  3.15it/s]\n",
      "                 Class     Images  Instances      Box(P          R      mAP50  mAP50-95): 100%|██████████| 101/101 [00:24<00:00,  4.20it/s]\n"
     ]
    },
    {
     "name": "stdout",
     "output_type": "stream",
     "text": [
      "                   all       3226      39707      0.825      0.539      0.618      0.332\n",
      "\n",
      "      Epoch    GPU_mem   box_loss   cls_loss   dfl_loss  Instances       Size\n"
     ]
    },
    {
     "name": "stderr",
     "output_type": "stream",
     "text": [
      "      18/50      11.4G      1.477     0.7824      1.093        256        640: 100%|██████████| 805/805 [04:15<00:00,  3.15it/s]\n",
      "                 Class     Images  Instances      Box(P          R      mAP50  mAP50-95): 100%|██████████| 101/101 [00:24<00:00,  4.20it/s]\n"
     ]
    },
    {
     "name": "stdout",
     "output_type": "stream",
     "text": [
      "                   all       3226      39707       0.83      0.549      0.624      0.334\n",
      "\n",
      "      Epoch    GPU_mem   box_loss   cls_loss   dfl_loss  Instances       Size\n"
     ]
    },
    {
     "name": "stderr",
     "output_type": "stream",
     "text": [
      "      19/50      10.5G      1.475     0.7741      1.091        266        640: 100%|██████████| 805/805 [04:14<00:00,  3.16it/s]\n",
      "                 Class     Images  Instances      Box(P          R      mAP50  mAP50-95): 100%|██████████| 101/101 [00:23<00:00,  4.29it/s]\n"
     ]
    },
    {
     "name": "stdout",
     "output_type": "stream",
     "text": [
      "                   all       3226      39707      0.823      0.549      0.623      0.334\n",
      "\n",
      "      Epoch    GPU_mem   box_loss   cls_loss   dfl_loss  Instances       Size\n"
     ]
    },
    {
     "name": "stderr",
     "output_type": "stream",
     "text": [
      "      20/50      12.1G       1.46     0.7628      1.087        174        640: 100%|██████████| 805/805 [04:13<00:00,  3.18it/s]\n",
      "                 Class     Images  Instances      Box(P          R      mAP50  mAP50-95): 100%|██████████| 101/101 [00:23<00:00,  4.29it/s]\n"
     ]
    },
    {
     "name": "stdout",
     "output_type": "stream",
     "text": [
      "                   all       3226      39707      0.832      0.552      0.628      0.339\n",
      "\n",
      "      Epoch    GPU_mem   box_loss   cls_loss   dfl_loss  Instances       Size\n"
     ]
    },
    {
     "name": "stderr",
     "output_type": "stream",
     "text": [
      "      21/50      13.6G      1.457     0.7571      1.086        666        640: 100%|██████████| 805/805 [04:14<00:00,  3.16it/s]\n",
      "                 Class     Images  Instances      Box(P          R      mAP50  mAP50-95): 100%|██████████| 101/101 [00:23<00:00,  4.29it/s]\n"
     ]
    },
    {
     "name": "stdout",
     "output_type": "stream",
     "text": [
      "                   all       3226      39707      0.833      0.556      0.635      0.342\n",
      "\n",
      "      Epoch    GPU_mem   box_loss   cls_loss   dfl_loss  Instances       Size\n"
     ]
    },
    {
     "name": "stderr",
     "output_type": "stream",
     "text": [
      "      22/50      10.3G      1.451      0.755      1.082        129        640: 100%|██████████| 805/805 [04:14<00:00,  3.16it/s]\n",
      "                 Class     Images  Instances      Box(P          R      mAP50  mAP50-95): 100%|██████████| 101/101 [00:23<00:00,  4.26it/s]\n"
     ]
    },
    {
     "name": "stdout",
     "output_type": "stream",
     "text": [
      "                   all       3226      39707      0.833      0.562      0.637      0.343\n",
      "\n",
      "      Epoch    GPU_mem   box_loss   cls_loss   dfl_loss  Instances       Size\n"
     ]
    },
    {
     "name": "stderr",
     "output_type": "stream",
     "text": [
      "      23/50      10.8G      1.441     0.7429      1.077        465        640: 100%|██████████| 805/805 [04:14<00:00,  3.16it/s]\n",
      "                 Class     Images  Instances      Box(P          R      mAP50  mAP50-95): 100%|██████████| 101/101 [00:23<00:00,  4.26it/s]\n"
     ]
    },
    {
     "name": "stdout",
     "output_type": "stream",
     "text": [
      "                   all       3226      39707      0.838      0.558      0.639      0.346\n",
      "\n",
      "      Epoch    GPU_mem   box_loss   cls_loss   dfl_loss  Instances       Size\n"
     ]
    },
    {
     "name": "stderr",
     "output_type": "stream",
     "text": [
      "      24/50        14G      1.436     0.7418      1.076        101        640: 100%|██████████| 805/805 [04:14<00:00,  3.16it/s]\n",
      "                 Class     Images  Instances      Box(P          R      mAP50  mAP50-95): 100%|██████████| 101/101 [00:23<00:00,  4.27it/s]\n"
     ]
    },
    {
     "name": "stdout",
     "output_type": "stream",
     "text": [
      "                   all       3226      39707       0.84      0.563      0.644       0.35\n",
      "\n",
      "      Epoch    GPU_mem   box_loss   cls_loss   dfl_loss  Instances       Size\n"
     ]
    },
    {
     "name": "stderr",
     "output_type": "stream",
     "text": [
      "      25/50      10.7G      1.424     0.7305      1.072        141        640: 100%|██████████| 805/805 [04:14<00:00,  3.16it/s]\n",
      "                 Class     Images  Instances      Box(P          R      mAP50  mAP50-95): 100%|██████████| 101/101 [00:23<00:00,  4.28it/s]\n"
     ]
    },
    {
     "name": "stdout",
     "output_type": "stream",
     "text": [
      "                   all       3226      39707      0.837      0.569      0.647      0.351\n",
      "\n",
      "      Epoch    GPU_mem   box_loss   cls_loss   dfl_loss  Instances       Size\n"
     ]
    },
    {
     "name": "stderr",
     "output_type": "stream",
     "text": [
      "      26/50      14.8G      1.428     0.7283      1.073        115        640: 100%|██████████| 805/805 [04:14<00:00,  3.17it/s]\n",
      "                 Class     Images  Instances      Box(P          R      mAP50  mAP50-95): 100%|██████████| 101/101 [00:23<00:00,  4.28it/s]\n"
     ]
    },
    {
     "name": "stdout",
     "output_type": "stream",
     "text": [
      "                   all       3226      39707      0.835      0.568      0.645      0.351\n",
      "\n",
      "      Epoch    GPU_mem   box_loss   cls_loss   dfl_loss  Instances       Size\n"
     ]
    },
    {
     "name": "stderr",
     "output_type": "stream",
     "text": [
      "      27/50      14.3G      1.417     0.7207      1.069        180        640: 100%|██████████| 805/805 [04:16<00:00,  3.14it/s]\n",
      "                 Class     Images  Instances      Box(P          R      mAP50  mAP50-95): 100%|██████████| 101/101 [00:25<00:00,  4.03it/s]\n"
     ]
    },
    {
     "name": "stdout",
     "output_type": "stream",
     "text": [
      "                   all       3226      39707      0.838       0.57      0.648       0.35\n",
      "\n",
      "      Epoch    GPU_mem   box_loss   cls_loss   dfl_loss  Instances       Size\n"
     ]
    },
    {
     "name": "stderr",
     "output_type": "stream",
     "text": [
      "      28/50      13.2G      1.413     0.7151      1.071        305        640: 100%|██████████| 805/805 [04:19<00:00,  3.10it/s]\n",
      "                 Class     Images  Instances      Box(P          R      mAP50  mAP50-95): 100%|██████████| 101/101 [00:25<00:00,  4.01it/s]\n"
     ]
    },
    {
     "name": "stdout",
     "output_type": "stream",
     "text": [
      "                   all       3226      39707      0.837      0.576      0.651      0.355\n",
      "\n",
      "      Epoch    GPU_mem   box_loss   cls_loss   dfl_loss  Instances       Size\n"
     ]
    },
    {
     "name": "stderr",
     "output_type": "stream",
     "text": [
      "      29/50      10.1G      1.405     0.7082      1.068        365        640: 100%|██████████| 805/805 [04:19<00:00,  3.11it/s]\n",
      "                 Class     Images  Instances      Box(P          R      mAP50  mAP50-95): 100%|██████████| 101/101 [00:24<00:00,  4.05it/s]\n"
     ]
    },
    {
     "name": "stdout",
     "output_type": "stream",
     "text": [
      "                   all       3226      39707      0.843      0.575      0.654      0.357\n",
      "\n",
      "      Epoch    GPU_mem   box_loss   cls_loss   dfl_loss  Instances       Size\n"
     ]
    },
    {
     "name": "stderr",
     "output_type": "stream",
     "text": [
      "      30/50      11.9G      1.406     0.7062      1.065        357        640: 100%|██████████| 805/805 [04:20<00:00,  3.10it/s]\n",
      "                 Class     Images  Instances      Box(P          R      mAP50  mAP50-95): 100%|██████████| 101/101 [00:25<00:00,  4.04it/s]\n"
     ]
    },
    {
     "name": "stdout",
     "output_type": "stream",
     "text": [
      "                   all       3226      39707      0.844      0.573      0.653      0.358\n",
      "\n",
      "      Epoch    GPU_mem   box_loss   cls_loss   dfl_loss  Instances       Size\n"
     ]
    },
    {
     "name": "stderr",
     "output_type": "stream",
     "text": [
      "      31/50      15.2G      1.402      0.702      1.063        284        640: 100%|██████████| 805/805 [04:20<00:00,  3.09it/s]\n",
      "                 Class     Images  Instances      Box(P          R      mAP50  mAP50-95): 100%|██████████| 101/101 [00:25<00:00,  4.01it/s]\n"
     ]
    },
    {
     "name": "stdout",
     "output_type": "stream",
     "text": [
      "                   all       3226      39707      0.841      0.579      0.657      0.359\n",
      "\n",
      "      Epoch    GPU_mem   box_loss   cls_loss   dfl_loss  Instances       Size\n"
     ]
    },
    {
     "name": "stderr",
     "output_type": "stream",
     "text": [
      "      32/50        14G      1.397     0.6962      1.058        857        640: 100%|██████████| 805/805 [04:18<00:00,  3.11it/s]\n",
      "                 Class     Images  Instances      Box(P          R      mAP50  mAP50-95): 100%|██████████| 101/101 [00:24<00:00,  4.17it/s]\n"
     ]
    },
    {
     "name": "stdout",
     "output_type": "stream",
     "text": [
      "                   all       3226      39707      0.843      0.578      0.656       0.36\n",
      "\n",
      "      Epoch    GPU_mem   box_loss   cls_loss   dfl_loss  Instances       Size\n"
     ]
    },
    {
     "name": "stderr",
     "output_type": "stream",
     "text": [
      "      33/50      13.8G      1.386     0.6917      1.059        244        640: 100%|██████████| 805/805 [04:16<00:00,  3.14it/s]\n",
      "                 Class     Images  Instances      Box(P          R      mAP50  mAP50-95): 100%|██████████| 101/101 [00:24<00:00,  4.20it/s]\n"
     ]
    },
    {
     "name": "stdout",
     "output_type": "stream",
     "text": [
      "                   all       3226      39707       0.84      0.579      0.657       0.36\n",
      "\n",
      "      Epoch    GPU_mem   box_loss   cls_loss   dfl_loss  Instances       Size\n"
     ]
    },
    {
     "name": "stderr",
     "output_type": "stream",
     "text": [
      "      34/50      12.6G      1.386     0.6871      1.056        160        640: 100%|██████████| 805/805 [04:16<00:00,  3.14it/s]\n",
      "                 Class     Images  Instances      Box(P          R      mAP50  mAP50-95): 100%|██████████| 101/101 [00:23<00:00,  4.24it/s]\n"
     ]
    },
    {
     "name": "stdout",
     "output_type": "stream",
     "text": [
      "                   all       3226      39707      0.841       0.58      0.659      0.361\n",
      "\n",
      "      Epoch    GPU_mem   box_loss   cls_loss   dfl_loss  Instances       Size\n"
     ]
    },
    {
     "name": "stderr",
     "output_type": "stream",
     "text": [
      "      35/50      13.7G      1.377     0.6821      1.057        345        640: 100%|██████████| 805/805 [04:14<00:00,  3.16it/s]\n",
      "                 Class     Images  Instances      Box(P          R      mAP50  mAP50-95): 100%|██████████| 101/101 [00:23<00:00,  4.26it/s]\n"
     ]
    },
    {
     "name": "stdout",
     "output_type": "stream",
     "text": [
      "                   all       3226      39707      0.845      0.582       0.66      0.362\n",
      "Closing dataloader mosaic\n",
      "\u001b[34m\u001b[1malbumentations: \u001b[0mBlur(p=0.01, blur_limit=(3, 7)), MedianBlur(p=0.01, blur_limit=(3, 7)), ToGray(p=0.01, method='weighted_average', num_output_channels=3), CLAHE(p=0.01, clip_limit=(1.0, 4.0), tile_grid_size=(8, 8))\n",
      "\n",
      "      Epoch    GPU_mem   box_loss   cls_loss   dfl_loss  Instances       Size\n"
     ]
    },
    {
     "name": "stderr",
     "output_type": "stream",
     "text": [
      "      36/50      10.9G      1.343     0.6491       1.06        110        640: 100%|██████████| 805/805 [04:11<00:00,  3.20it/s]\n",
      "                 Class     Images  Instances      Box(P          R      mAP50  mAP50-95): 100%|██████████| 101/101 [00:23<00:00,  4.27it/s]\n"
     ]
    },
    {
     "name": "stdout",
     "output_type": "stream",
     "text": [
      "                   all       3226      39707      0.847      0.577      0.659      0.362\n",
      "\n",
      "      Epoch    GPU_mem   box_loss   cls_loss   dfl_loss  Instances       Size\n"
     ]
    },
    {
     "name": "stderr",
     "output_type": "stream",
     "text": [
      "      37/50      11.8G      1.335     0.6414      1.058        161        640: 100%|██████████| 805/805 [04:11<00:00,  3.20it/s]\n",
      "                 Class     Images  Instances      Box(P          R      mAP50  mAP50-95): 100%|██████████| 101/101 [00:23<00:00,  4.28it/s]\n"
     ]
    },
    {
     "name": "stdout",
     "output_type": "stream",
     "text": [
      "                   all       3226      39707      0.846      0.579       0.66      0.363\n",
      "\n",
      "      Epoch    GPU_mem   box_loss   cls_loss   dfl_loss  Instances       Size\n"
     ]
    },
    {
     "name": "stderr",
     "output_type": "stream",
     "text": [
      "      38/50      11.6G      1.339     0.6419      1.058        199        640: 100%|██████████| 805/805 [04:10<00:00,  3.21it/s]\n",
      "                 Class     Images  Instances      Box(P          R      mAP50  mAP50-95): 100%|██████████| 101/101 [00:23<00:00,  4.29it/s]\n"
     ]
    },
    {
     "name": "stdout",
     "output_type": "stream",
     "text": [
      "                   all       3226      39707       0.85      0.578      0.661      0.364\n",
      "\n",
      "      Epoch    GPU_mem   box_loss   cls_loss   dfl_loss  Instances       Size\n"
     ]
    },
    {
     "name": "stderr",
     "output_type": "stream",
     "text": [
      "      39/50      10.8G      1.336     0.6378      1.054         85        640: 100%|██████████| 805/805 [04:11<00:00,  3.20it/s]\n",
      "                 Class     Images  Instances      Box(P          R      mAP50  mAP50-95): 100%|██████████| 101/101 [00:24<00:00,  4.15it/s]\n"
     ]
    },
    {
     "name": "stdout",
     "output_type": "stream",
     "text": [
      "                   all       3226      39707      0.848       0.58      0.661      0.364\n",
      "\n",
      "      Epoch    GPU_mem   box_loss   cls_loss   dfl_loss  Instances       Size\n"
     ]
    },
    {
     "name": "stderr",
     "output_type": "stream",
     "text": [
      "      40/50      11.2G      1.323     0.6312      1.052         44        640: 100%|██████████| 805/805 [04:13<00:00,  3.18it/s]\n",
      "                 Class     Images  Instances      Box(P          R      mAP50  mAP50-95): 100%|██████████| 101/101 [00:23<00:00,  4.23it/s]\n"
     ]
    },
    {
     "name": "stdout",
     "output_type": "stream",
     "text": [
      "                   all       3226      39707      0.848       0.58      0.662      0.364\n",
      "\n",
      "      Epoch    GPU_mem   box_loss   cls_loss   dfl_loss  Instances       Size\n"
     ]
    },
    {
     "name": "stderr",
     "output_type": "stream",
     "text": [
      "      41/50      10.6G      1.322     0.6298      1.051        220        640: 100%|██████████| 805/805 [04:11<00:00,  3.20it/s]\n",
      "                 Class     Images  Instances      Box(P          R      mAP50  mAP50-95): 100%|██████████| 101/101 [00:23<00:00,  4.23it/s]\n"
     ]
    },
    {
     "name": "stdout",
     "output_type": "stream",
     "text": [
      "                   all       3226      39707      0.851       0.58      0.663      0.365\n",
      "\n",
      "      Epoch    GPU_mem   box_loss   cls_loss   dfl_loss  Instances       Size\n"
     ]
    },
    {
     "name": "stderr",
     "output_type": "stream",
     "text": [
      "      42/50      14.5G      1.318     0.6228       1.05         51        640: 100%|██████████| 805/805 [04:11<00:00,  3.21it/s]\n",
      "                 Class     Images  Instances      Box(P          R      mAP50  mAP50-95): 100%|██████████| 101/101 [00:23<00:00,  4.28it/s]\n"
     ]
    },
    {
     "name": "stdout",
     "output_type": "stream",
     "text": [
      "                   all       3226      39707       0.85      0.579      0.663      0.365\n",
      "\n",
      "      Epoch    GPU_mem   box_loss   cls_loss   dfl_loss  Instances       Size\n"
     ]
    },
    {
     "name": "stderr",
     "output_type": "stream",
     "text": [
      "      43/50      10.7G      1.311     0.6198      1.046        126        640: 100%|██████████| 805/805 [04:11<00:00,  3.20it/s]\n",
      "                 Class     Images  Instances      Box(P          R      mAP50  mAP50-95): 100%|██████████| 101/101 [00:23<00:00,  4.27it/s]\n"
     ]
    },
    {
     "name": "stdout",
     "output_type": "stream",
     "text": [
      "                   all       3226      39707      0.849      0.583      0.665      0.366\n",
      "\n",
      "      Epoch    GPU_mem   box_loss   cls_loss   dfl_loss  Instances       Size\n"
     ]
    },
    {
     "name": "stderr",
     "output_type": "stream",
     "text": [
      "      44/50      11.2G      1.313     0.6181      1.045         56        640: 100%|██████████| 805/805 [04:11<00:00,  3.20it/s]\n",
      "                 Class     Images  Instances      Box(P          R      mAP50  mAP50-95): 100%|██████████| 101/101 [00:23<00:00,  4.27it/s]\n"
     ]
    },
    {
     "name": "stdout",
     "output_type": "stream",
     "text": [
      "                   all       3226      39707      0.853      0.581      0.664      0.366\n",
      "\n",
      "      Epoch    GPU_mem   box_loss   cls_loss   dfl_loss  Instances       Size\n"
     ]
    },
    {
     "name": "stderr",
     "output_type": "stream",
     "text": [
      "      45/50      14.8G      1.309     0.6172      1.043        274        640: 100%|██████████| 805/805 [04:11<00:00,  3.20it/s]\n",
      "                 Class     Images  Instances      Box(P          R      mAP50  mAP50-95): 100%|██████████| 101/101 [00:23<00:00,  4.29it/s]\n"
     ]
    },
    {
     "name": "stdout",
     "output_type": "stream",
     "text": [
      "                   all       3226      39707      0.851      0.582      0.665      0.366\n",
      "\n",
      "      Epoch    GPU_mem   box_loss   cls_loss   dfl_loss  Instances       Size\n"
     ]
    },
    {
     "name": "stderr",
     "output_type": "stream",
     "text": [
      "      46/50      9.79G      1.307     0.6139      1.047         87        640: 100%|██████████| 805/805 [04:11<00:00,  3.21it/s]\n",
      "                 Class     Images  Instances      Box(P          R      mAP50  mAP50-95): 100%|██████████| 101/101 [00:23<00:00,  4.28it/s]\n"
     ]
    },
    {
     "name": "stdout",
     "output_type": "stream",
     "text": [
      "                   all       3226      39707      0.849      0.582      0.665      0.366\n",
      "\n",
      "      Epoch    GPU_mem   box_loss   cls_loss   dfl_loss  Instances       Size\n"
     ]
    },
    {
     "name": "stderr",
     "output_type": "stream",
     "text": [
      "      47/50      11.4G        1.3      0.612      1.043        106        640: 100%|██████████| 805/805 [04:11<00:00,  3.20it/s]\n",
      "                 Class     Images  Instances      Box(P          R      mAP50  mAP50-95): 100%|██████████| 101/101 [00:23<00:00,  4.23it/s]\n"
     ]
    },
    {
     "name": "stdout",
     "output_type": "stream",
     "text": [
      "                   all       3226      39707      0.849      0.583      0.665      0.367\n",
      "\n",
      "      Epoch    GPU_mem   box_loss   cls_loss   dfl_loss  Instances       Size\n"
     ]
    },
    {
     "name": "stderr",
     "output_type": "stream",
     "text": [
      "      48/50      12.3G      1.307     0.6114      1.041         79        640: 100%|██████████| 805/805 [04:11<00:00,  3.20it/s]\n",
      "                 Class     Images  Instances      Box(P          R      mAP50  mAP50-95): 100%|██████████| 101/101 [00:23<00:00,  4.28it/s]\n"
     ]
    },
    {
     "name": "stdout",
     "output_type": "stream",
     "text": [
      "                   all       3226      39707      0.852      0.581      0.665      0.366\n",
      "\n",
      "      Epoch    GPU_mem   box_loss   cls_loss   dfl_loss  Instances       Size\n"
     ]
    },
    {
     "name": "stderr",
     "output_type": "stream",
     "text": [
      "      49/50      10.3G      1.306     0.6118      1.038         52        640: 100%|██████████| 805/805 [04:10<00:00,  3.21it/s]\n",
      "                 Class     Images  Instances      Box(P          R      mAP50  mAP50-95): 100%|██████████| 101/101 [00:23<00:00,  4.28it/s]\n"
     ]
    },
    {
     "name": "stdout",
     "output_type": "stream",
     "text": [
      "                   all       3226      39707       0.85      0.582      0.666      0.366\n",
      "\n",
      "      Epoch    GPU_mem   box_loss   cls_loss   dfl_loss  Instances       Size\n"
     ]
    },
    {
     "name": "stderr",
     "output_type": "stream",
     "text": [
      "      50/50      15.4G      1.302     0.6103      1.042        106        640: 100%|██████████| 805/805 [04:10<00:00,  3.21it/s]\n",
      "                 Class     Images  Instances      Box(P          R      mAP50  mAP50-95): 100%|██████████| 101/101 [00:23<00:00,  4.29it/s]\n"
     ]
    },
    {
     "name": "stdout",
     "output_type": "stream",
     "text": [
      "                   all       3226      39707      0.851      0.582      0.666      0.367\n",
      "\n",
      "50 epochs completed in 3.891 hours.\n",
      "Optimizer stripped from face-yolov8/tuned3/weights/last.pt, 22.5MB\n",
      "Optimizer stripped from face-yolov8/tuned3/weights/best.pt, 22.5MB\n",
      "\n",
      "Validating face-yolov8/tuned3/weights/best.pt...\n",
      "Ultralytics 8.3.170 🚀 Python-3.11.13 torch-2.6.0+cu124 CUDA:0 (Tesla P100-PCIE-16GB, 16269MiB)\n",
      "YOLOv8s summary (fused): 72 layers, 11,125,971 parameters, 0 gradients, 28.4 GFLOPs\n"
     ]
    },
    {
     "name": "stderr",
     "output_type": "stream",
     "text": [
      "                 Class     Images  Instances      Box(P          R      mAP50  mAP50-95): 100%|██████████| 101/101 [00:23<00:00,  4.22it/s]\n",
      "/usr/local/lib/python3.11/dist-packages/matplotlib/colors.py:721: RuntimeWarning: invalid value encountered in less\n",
      "  xa[xa < 0] = -1\n",
      "/usr/local/lib/python3.11/dist-packages/matplotlib/colors.py:721: RuntimeWarning: invalid value encountered in less\n",
      "  xa[xa < 0] = -1\n"
     ]
    },
    {
     "name": "stdout",
     "output_type": "stream",
     "text": [
      "                   all       3226      39707      0.851      0.582      0.666      0.367\n",
      "Speed: 0.1ms preprocess, 3.2ms inference, 0.0ms loss, 1.2ms postprocess per image\n",
      "Results saved to \u001b[1mface-yolov8/tuned3\u001b[0m\n"
     ]
    },
    {
     "data": {
      "text/plain": [
       "ultralytics.utils.metrics.DetMetrics object with attributes:\n",
       "\n",
       "ap_class_index: array([0])\n",
       "box: ultralytics.utils.metrics.Metric object\n",
       "confusion_matrix: <ultralytics.utils.metrics.ConfusionMatrix object at 0x7e4a20172190>\n",
       "curves: ['Precision-Recall(B)', 'F1-Confidence(B)', 'Precision-Confidence(B)', 'Recall-Confidence(B)']\n",
       "curves_results: [[array([          0,    0.001001,    0.002002,    0.003003,    0.004004,    0.005005,    0.006006,    0.007007,    0.008008,    0.009009,     0.01001,    0.011011,    0.012012,    0.013013,    0.014014,    0.015015,    0.016016,    0.017017,    0.018018,    0.019019,     0.02002,    0.021021,    0.022022,    0.023023,\n",
       "          0.024024,    0.025025,    0.026026,    0.027027,    0.028028,    0.029029,     0.03003,    0.031031,    0.032032,    0.033033,    0.034034,    0.035035,    0.036036,    0.037037,    0.038038,    0.039039,     0.04004,    0.041041,    0.042042,    0.043043,    0.044044,    0.045045,    0.046046,    0.047047,\n",
       "          0.048048,    0.049049,     0.05005,    0.051051,    0.052052,    0.053053,    0.054054,    0.055055,    0.056056,    0.057057,    0.058058,    0.059059,     0.06006,    0.061061,    0.062062,    0.063063,    0.064064,    0.065065,    0.066066,    0.067067,    0.068068,    0.069069,     0.07007,    0.071071,\n",
       "          0.072072,    0.073073,    0.074074,    0.075075,    0.076076,    0.077077,    0.078078,    0.079079,     0.08008,    0.081081,    0.082082,    0.083083,    0.084084,    0.085085,    0.086086,    0.087087,    0.088088,    0.089089,     0.09009,    0.091091,    0.092092,    0.093093,    0.094094,    0.095095,\n",
       "          0.096096,    0.097097,    0.098098,    0.099099,      0.1001,      0.1011,      0.1021,      0.1031,      0.1041,     0.10511,     0.10611,     0.10711,     0.10811,     0.10911,     0.11011,     0.11111,     0.11211,     0.11311,     0.11411,     0.11512,     0.11612,     0.11712,     0.11812,     0.11912,\n",
       "           0.12012,     0.12112,     0.12212,     0.12312,     0.12412,     0.12513,     0.12613,     0.12713,     0.12813,     0.12913,     0.13013,     0.13113,     0.13213,     0.13313,     0.13413,     0.13514,     0.13614,     0.13714,     0.13814,     0.13914,     0.14014,     0.14114,     0.14214,     0.14314,\n",
       "           0.14414,     0.14515,     0.14615,     0.14715,     0.14815,     0.14915,     0.15015,     0.15115,     0.15215,     0.15315,     0.15415,     0.15516,     0.15616,     0.15716,     0.15816,     0.15916,     0.16016,     0.16116,     0.16216,     0.16316,     0.16416,     0.16517,     0.16617,     0.16717,\n",
       "           0.16817,     0.16917,     0.17017,     0.17117,     0.17217,     0.17317,     0.17417,     0.17518,     0.17618,     0.17718,     0.17818,     0.17918,     0.18018,     0.18118,     0.18218,     0.18318,     0.18418,     0.18519,     0.18619,     0.18719,     0.18819,     0.18919,     0.19019,     0.19119,\n",
       "           0.19219,     0.19319,     0.19419,      0.1952,      0.1962,      0.1972,      0.1982,      0.1992,      0.2002,      0.2012,      0.2022,      0.2032,      0.2042,     0.20521,     0.20621,     0.20721,     0.20821,     0.20921,     0.21021,     0.21121,     0.21221,     0.21321,     0.21421,     0.21522,\n",
       "           0.21622,     0.21722,     0.21822,     0.21922,     0.22022,     0.22122,     0.22222,     0.22322,     0.22422,     0.22523,     0.22623,     0.22723,     0.22823,     0.22923,     0.23023,     0.23123,     0.23223,     0.23323,     0.23423,     0.23524,     0.23624,     0.23724,     0.23824,     0.23924,\n",
       "           0.24024,     0.24124,     0.24224,     0.24324,     0.24424,     0.24525,     0.24625,     0.24725,     0.24825,     0.24925,     0.25025,     0.25125,     0.25225,     0.25325,     0.25425,     0.25526,     0.25626,     0.25726,     0.25826,     0.25926,     0.26026,     0.26126,     0.26226,     0.26326,\n",
       "           0.26426,     0.26527,     0.26627,     0.26727,     0.26827,     0.26927,     0.27027,     0.27127,     0.27227,     0.27327,     0.27427,     0.27528,     0.27628,     0.27728,     0.27828,     0.27928,     0.28028,     0.28128,     0.28228,     0.28328,     0.28428,     0.28529,     0.28629,     0.28729,\n",
       "           0.28829,     0.28929,     0.29029,     0.29129,     0.29229,     0.29329,     0.29429,      0.2953,      0.2963,      0.2973,      0.2983,      0.2993,      0.3003,      0.3013,      0.3023,      0.3033,      0.3043,     0.30531,     0.30631,     0.30731,     0.30831,     0.30931,     0.31031,     0.31131,\n",
       "           0.31231,     0.31331,     0.31431,     0.31532,     0.31632,     0.31732,     0.31832,     0.31932,     0.32032,     0.32132,     0.32232,     0.32332,     0.32432,     0.32533,     0.32633,     0.32733,     0.32833,     0.32933,     0.33033,     0.33133,     0.33233,     0.33333,     0.33433,     0.33534,\n",
       "           0.33634,     0.33734,     0.33834,     0.33934,     0.34034,     0.34134,     0.34234,     0.34334,     0.34434,     0.34535,     0.34635,     0.34735,     0.34835,     0.34935,     0.35035,     0.35135,     0.35235,     0.35335,     0.35435,     0.35536,     0.35636,     0.35736,     0.35836,     0.35936,\n",
       "           0.36036,     0.36136,     0.36236,     0.36336,     0.36436,     0.36537,     0.36637,     0.36737,     0.36837,     0.36937,     0.37037,     0.37137,     0.37237,     0.37337,     0.37437,     0.37538,     0.37638,     0.37738,     0.37838,     0.37938,     0.38038,     0.38138,     0.38238,     0.38338,\n",
       "           0.38438,     0.38539,     0.38639,     0.38739,     0.38839,     0.38939,     0.39039,     0.39139,     0.39239,     0.39339,     0.39439,      0.3954,      0.3964,      0.3974,      0.3984,      0.3994,      0.4004,      0.4014,      0.4024,      0.4034,      0.4044,     0.40541,     0.40641,     0.40741,\n",
       "           0.40841,     0.40941,     0.41041,     0.41141,     0.41241,     0.41341,     0.41441,     0.41542,     0.41642,     0.41742,     0.41842,     0.41942,     0.42042,     0.42142,     0.42242,     0.42342,     0.42442,     0.42543,     0.42643,     0.42743,     0.42843,     0.42943,     0.43043,     0.43143,\n",
       "           0.43243,     0.43343,     0.43443,     0.43544,     0.43644,     0.43744,     0.43844,     0.43944,     0.44044,     0.44144,     0.44244,     0.44344,     0.44444,     0.44545,     0.44645,     0.44745,     0.44845,     0.44945,     0.45045,     0.45145,     0.45245,     0.45345,     0.45445,     0.45546,\n",
       "           0.45646,     0.45746,     0.45846,     0.45946,     0.46046,     0.46146,     0.46246,     0.46346,     0.46446,     0.46547,     0.46647,     0.46747,     0.46847,     0.46947,     0.47047,     0.47147,     0.47247,     0.47347,     0.47447,     0.47548,     0.47648,     0.47748,     0.47848,     0.47948,\n",
       "           0.48048,     0.48148,     0.48248,     0.48348,     0.48448,     0.48549,     0.48649,     0.48749,     0.48849,     0.48949,     0.49049,     0.49149,     0.49249,     0.49349,     0.49449,      0.4955,      0.4965,      0.4975,      0.4985,      0.4995,      0.5005,      0.5015,      0.5025,      0.5035,\n",
       "            0.5045,     0.50551,     0.50651,     0.50751,     0.50851,     0.50951,     0.51051,     0.51151,     0.51251,     0.51351,     0.51451,     0.51552,     0.51652,     0.51752,     0.51852,     0.51952,     0.52052,     0.52152,     0.52252,     0.52352,     0.52452,     0.52553,     0.52653,     0.52753,\n",
       "           0.52853,     0.52953,     0.53053,     0.53153,     0.53253,     0.53353,     0.53453,     0.53554,     0.53654,     0.53754,     0.53854,     0.53954,     0.54054,     0.54154,     0.54254,     0.54354,     0.54454,     0.54555,     0.54655,     0.54755,     0.54855,     0.54955,     0.55055,     0.55155,\n",
       "           0.55255,     0.55355,     0.55455,     0.55556,     0.55656,     0.55756,     0.55856,     0.55956,     0.56056,     0.56156,     0.56256,     0.56356,     0.56456,     0.56557,     0.56657,     0.56757,     0.56857,     0.56957,     0.57057,     0.57157,     0.57257,     0.57357,     0.57457,     0.57558,\n",
       "           0.57658,     0.57758,     0.57858,     0.57958,     0.58058,     0.58158,     0.58258,     0.58358,     0.58458,     0.58559,     0.58659,     0.58759,     0.58859,     0.58959,     0.59059,     0.59159,     0.59259,     0.59359,     0.59459,      0.5956,      0.5966,      0.5976,      0.5986,      0.5996,\n",
       "            0.6006,      0.6016,      0.6026,      0.6036,      0.6046,     0.60561,     0.60661,     0.60761,     0.60861,     0.60961,     0.61061,     0.61161,     0.61261,     0.61361,     0.61461,     0.61562,     0.61662,     0.61762,     0.61862,     0.61962,     0.62062,     0.62162,     0.62262,     0.62362,\n",
       "           0.62462,     0.62563,     0.62663,     0.62763,     0.62863,     0.62963,     0.63063,     0.63163,     0.63263,     0.63363,     0.63463,     0.63564,     0.63664,     0.63764,     0.63864,     0.63964,     0.64064,     0.64164,     0.64264,     0.64364,     0.64464,     0.64565,     0.64665,     0.64765,\n",
       "           0.64865,     0.64965,     0.65065,     0.65165,     0.65265,     0.65365,     0.65465,     0.65566,     0.65666,     0.65766,     0.65866,     0.65966,     0.66066,     0.66166,     0.66266,     0.66366,     0.66466,     0.66567,     0.66667,     0.66767,     0.66867,     0.66967,     0.67067,     0.67167,\n",
       "           0.67267,     0.67367,     0.67467,     0.67568,     0.67668,     0.67768,     0.67868,     0.67968,     0.68068,     0.68168,     0.68268,     0.68368,     0.68468,     0.68569,     0.68669,     0.68769,     0.68869,     0.68969,     0.69069,     0.69169,     0.69269,     0.69369,     0.69469,      0.6957,\n",
       "            0.6967,      0.6977,      0.6987,      0.6997,      0.7007,      0.7017,      0.7027,      0.7037,      0.7047,     0.70571,     0.70671,     0.70771,     0.70871,     0.70971,     0.71071,     0.71171,     0.71271,     0.71371,     0.71471,     0.71572,     0.71672,     0.71772,     0.71872,     0.71972,\n",
       "           0.72072,     0.72172,     0.72272,     0.72372,     0.72472,     0.72573,     0.72673,     0.72773,     0.72873,     0.72973,     0.73073,     0.73173,     0.73273,     0.73373,     0.73473,     0.73574,     0.73674,     0.73774,     0.73874,     0.73974,     0.74074,     0.74174,     0.74274,     0.74374,\n",
       "           0.74474,     0.74575,     0.74675,     0.74775,     0.74875,     0.74975,     0.75075,     0.75175,     0.75275,     0.75375,     0.75475,     0.75576,     0.75676,     0.75776,     0.75876,     0.75976,     0.76076,     0.76176,     0.76276,     0.76376,     0.76476,     0.76577,     0.76677,     0.76777,\n",
       "           0.76877,     0.76977,     0.77077,     0.77177,     0.77277,     0.77377,     0.77477,     0.77578,     0.77678,     0.77778,     0.77878,     0.77978,     0.78078,     0.78178,     0.78278,     0.78378,     0.78478,     0.78579,     0.78679,     0.78779,     0.78879,     0.78979,     0.79079,     0.79179,\n",
       "           0.79279,     0.79379,     0.79479,      0.7958,      0.7968,      0.7978,      0.7988,      0.7998,      0.8008,      0.8018,      0.8028,      0.8038,      0.8048,     0.80581,     0.80681,     0.80781,     0.80881,     0.80981,     0.81081,     0.81181,     0.81281,     0.81381,     0.81481,     0.81582,\n",
       "           0.81682,     0.81782,     0.81882,     0.81982,     0.82082,     0.82182,     0.82282,     0.82382,     0.82482,     0.82583,     0.82683,     0.82783,     0.82883,     0.82983,     0.83083,     0.83183,     0.83283,     0.83383,     0.83483,     0.83584,     0.83684,     0.83784,     0.83884,     0.83984,\n",
       "           0.84084,     0.84184,     0.84284,     0.84384,     0.84484,     0.84585,     0.84685,     0.84785,     0.84885,     0.84985,     0.85085,     0.85185,     0.85285,     0.85385,     0.85485,     0.85586,     0.85686,     0.85786,     0.85886,     0.85986,     0.86086,     0.86186,     0.86286,     0.86386,\n",
       "           0.86486,     0.86587,     0.86687,     0.86787,     0.86887,     0.86987,     0.87087,     0.87187,     0.87287,     0.87387,     0.87487,     0.87588,     0.87688,     0.87788,     0.87888,     0.87988,     0.88088,     0.88188,     0.88288,     0.88388,     0.88488,     0.88589,     0.88689,     0.88789,\n",
       "           0.88889,     0.88989,     0.89089,     0.89189,     0.89289,     0.89389,     0.89489,      0.8959,      0.8969,      0.8979,      0.8989,      0.8999,      0.9009,      0.9019,      0.9029,      0.9039,      0.9049,     0.90591,     0.90691,     0.90791,     0.90891,     0.90991,     0.91091,     0.91191,\n",
       "           0.91291,     0.91391,     0.91491,     0.91592,     0.91692,     0.91792,     0.91892,     0.91992,     0.92092,     0.92192,     0.92292,     0.92392,     0.92492,     0.92593,     0.92693,     0.92793,     0.92893,     0.92993,     0.93093,     0.93193,     0.93293,     0.93393,     0.93493,     0.93594,\n",
       "           0.93694,     0.93794,     0.93894,     0.93994,     0.94094,     0.94194,     0.94294,     0.94394,     0.94494,     0.94595,     0.94695,     0.94795,     0.94895,     0.94995,     0.95095,     0.95195,     0.95295,     0.95395,     0.95495,     0.95596,     0.95696,     0.95796,     0.95896,     0.95996,\n",
       "           0.96096,     0.96196,     0.96296,     0.96396,     0.96496,     0.96597,     0.96697,     0.96797,     0.96897,     0.96997,     0.97097,     0.97197,     0.97297,     0.97397,     0.97497,     0.97598,     0.97698,     0.97798,     0.97898,     0.97998,     0.98098,     0.98198,     0.98298,     0.98398,\n",
       "           0.98498,     0.98599,     0.98699,     0.98799,     0.98899,     0.98999,     0.99099,     0.99199,     0.99299,     0.99399,     0.99499,       0.996,       0.997,       0.998,       0.999,           1]), array([[          1,           1,           1,           1,           1,           1,           1,           1,           1,           1,           1,           1,     0.99965,     0.99965,     0.99965,     0.99965,     0.99965,     0.99965,     0.99965,     0.99965,     0.99965,     0.99965,     0.99965,\n",
       "            0.99965,     0.99965,     0.99965,     0.99965,     0.99965,     0.99965,     0.99965,     0.99965,     0.99965,     0.99965,     0.99965,     0.99965,     0.99965,     0.99965,     0.99965,     0.99965,     0.99965,     0.99965,     0.99965,     0.99965,     0.99965,     0.99965,     0.99965,\n",
       "            0.99965,     0.99965,     0.99965,     0.99965,     0.99965,     0.99965,     0.99965,     0.99965,     0.99965,     0.99965,     0.99965,     0.99965,     0.99965,     0.99965,     0.99965,     0.99965,     0.99965,     0.99965,     0.99965,     0.99965,     0.99965,     0.99965,     0.99965,\n",
       "            0.99965,     0.99965,     0.99965,     0.99965,     0.99941,     0.99941,     0.99941,     0.99941,     0.99941,     0.99941,     0.99941,     0.99941,     0.99941,     0.99941,     0.99941,     0.99941,     0.99941,     0.99902,     0.99902,     0.99902,     0.99902,     0.99902,     0.99902,\n",
       "            0.99902,     0.99902,     0.99902,     0.99902,     0.99902,     0.99902,     0.99902,     0.99902,     0.99902,     0.99902,     0.99902,     0.99902,     0.99902,     0.99902,     0.99902,     0.99902,     0.99902,     0.99902,     0.99902,     0.99902,     0.99902,     0.99902,     0.99902,\n",
       "            0.99902,     0.99902,     0.99902,     0.99902,     0.99902,     0.99902,     0.99902,     0.99902,     0.99902,     0.99902,     0.99902,     0.99902,     0.99902,     0.99902,     0.99902,     0.99902,     0.99902,     0.99902,     0.99902,     0.99902,     0.99902,     0.99902,     0.99902,\n",
       "            0.99902,     0.99902,     0.99902,     0.99902,     0.99902,     0.99902,     0.99902,     0.99902,     0.99902,     0.99902,     0.99902,     0.99902,     0.99902,     0.99902,     0.99902,     0.99902,     0.99902,     0.99902,     0.99902,     0.99902,     0.99902,     0.99902,     0.99902,\n",
       "            0.99902,     0.99902,     0.99902,     0.99902,     0.99902,     0.99902,     0.99902,     0.99902,     0.99902,     0.99902,     0.99902,     0.99902,     0.99902,     0.99902,     0.99902,     0.99902,     0.99902,     0.99902,     0.99902,     0.99894,     0.99894,     0.99894,     0.99894,\n",
       "            0.99894,     0.99894,     0.99894,     0.99894,     0.99894,     0.99894,     0.99884,     0.99884,     0.99884,     0.99884,     0.99884,     0.99877,     0.99877,     0.99877,     0.99877,     0.99877,     0.99877,     0.99877,     0.99877,     0.99877,     0.99877,     0.99872,     0.99872,\n",
       "            0.99872,     0.99872,     0.99872,     0.99872,     0.99872,     0.99872,     0.99872,     0.99872,     0.99872,     0.99864,     0.99864,     0.99864,     0.99864,     0.99864,     0.99864,     0.99854,     0.99854,     0.99834,     0.99834,     0.99834,     0.99834,     0.99828,     0.99828,\n",
       "            0.99828,     0.99828,     0.99828,     0.99828,     0.99818,      0.9981,      0.9981,      0.9981,      0.9981,     0.99801,     0.99798,     0.99798,     0.99798,     0.99798,     0.99798,     0.99798,     0.99798,     0.99798,     0.99798,     0.99783,     0.99783,     0.99783,     0.99783,\n",
       "            0.99783,     0.99783,     0.99777,     0.99777,     0.99777,     0.99777,     0.99773,     0.99773,     0.99773,     0.99773,     0.99773,     0.99773,     0.99764,     0.99764,     0.99756,     0.99756,     0.99756,     0.99756,     0.99756,     0.99756,     0.99756,     0.99756,     0.99756,\n",
       "            0.99756,     0.99756,     0.99749,     0.99749,     0.99749,     0.99742,     0.99742,     0.99736,     0.99736,     0.99736,      0.9973,      0.9973,     0.99723,     0.99723,     0.99723,     0.99699,     0.99699,     0.99692,     0.99676,      0.9966,     0.99653,     0.99646,      0.9963,\n",
       "            0.99624,     0.99616,     0.99611,     0.99611,     0.99605,     0.99605,     0.99604,     0.99604,     0.99604,     0.99604,     0.99604,     0.99604,     0.99599,     0.99599,     0.99576,     0.99564,     0.99564,     0.99564,     0.99558,     0.99554,     0.99554,     0.99547,     0.99533,\n",
       "            0.99526,     0.99496,     0.99495,     0.99495,     0.99495,     0.99495,     0.99495,     0.99495,     0.99495,     0.99495,     0.99495,     0.99484,     0.99484,      0.9947,     0.99457,     0.99437,     0.99416,     0.99414,     0.99414,     0.99414,     0.99409,     0.99388,     0.99383,\n",
       "             0.9937,     0.99343,     0.99334,     0.99334,     0.99329,     0.99329,     0.99324,     0.99305,     0.99296,     0.99296,      0.9929,     0.99278,     0.99266,     0.99254,     0.99235,     0.99226,     0.99226,     0.99221,      0.9919,     0.99175,     0.99175,      0.9917,     0.99158,\n",
       "            0.99142,     0.99142,     0.99112,     0.99087,      0.9907,     0.99058,     0.99049,     0.99049,     0.99049,     0.99049,     0.99038,     0.99028,     0.99004,     0.98989,     0.98983,     0.98941,     0.98931,     0.98908,     0.98893,     0.98875,      0.9886,     0.98777,     0.98777,\n",
       "            0.98773,     0.98745,     0.98736,     0.98734,     0.98705,     0.98672,     0.98656,     0.98648,     0.98632,     0.98593,     0.98566,     0.98527,     0.98495,     0.98462,     0.98435,     0.98397,     0.98377,     0.98363,     0.98331,       0.983,     0.98287,     0.98254,     0.98206,\n",
       "            0.98184,      0.9818,     0.98166,     0.98135,     0.98102,     0.98098,     0.98074,     0.98049,     0.98003,     0.97967,     0.97937,     0.97897,     0.97879,     0.97861,     0.97822,     0.97804,     0.97792,     0.97781,     0.97763,     0.97729,     0.97707,     0.97663,     0.97651,\n",
       "            0.97612,      0.9759,     0.97564,     0.97541,     0.97503,     0.97455,     0.97417,     0.97379,     0.97347,     0.97257,     0.97204,     0.97174,     0.97139,     0.97117,     0.97097,     0.97067,     0.97016,     0.96965,     0.96919,     0.96905,     0.96854,     0.96811,     0.96794,\n",
       "            0.96752,     0.96709,     0.96688,      0.9667,     0.96621,     0.96608,     0.96579,     0.96507,     0.96475,     0.96461,      0.9642,     0.96367,     0.96334,     0.96277,     0.96172,     0.96111,     0.96046,     0.95966,     0.95935,     0.95876,     0.95822,     0.95791,     0.95733,\n",
       "            0.95646,     0.95588,      0.9554,     0.95498,     0.95449,     0.95406,     0.95333,     0.95275,     0.95205,     0.95141,     0.95085,     0.95039,     0.94998,     0.94911,     0.94867,     0.94832,     0.94747,     0.94661,     0.94645,     0.94601,      0.9457,     0.94482,     0.94452,\n",
       "            0.94387,     0.94303,     0.94269,     0.94221,     0.94135,     0.94069,     0.93979,     0.93889,      0.9384,     0.93796,     0.93674,     0.93545,     0.93486,     0.93437,     0.93319,     0.93196,     0.93132,     0.93074,     0.92992,     0.92884,     0.92789,     0.92706,     0.92634,\n",
       "            0.92516,     0.92417,       0.923,     0.92204,     0.92122,     0.92031,     0.91941,     0.91852,     0.91791,      0.9169,     0.91564,     0.91481,     0.91417,      0.9135,     0.91268,     0.91198,     0.91055,     0.90925,     0.90793,     0.90706,     0.90604,     0.90473,     0.90302,\n",
       "            0.90219,     0.90134,     0.90002,      0.8981,     0.89684,     0.89509,     0.89359,     0.89251,     0.89082,     0.88901,     0.88734,      0.8857,     0.88403,     0.88297,     0.88217,     0.88005,     0.87797,     0.87615,     0.87374,     0.87155,     0.86982,     0.86839,       0.867,\n",
       "            0.86552,     0.86403,     0.86166,     0.85926,     0.85685,     0.85534,     0.85268,     0.85023,     0.84839,     0.84599,     0.84464,     0.84202,     0.83958,     0.83654,     0.83409,     0.83257,     0.83036,     0.82766,     0.82537,     0.82273,     0.82047,     0.81822,      0.8161,\n",
       "            0.81456,     0.81174,     0.80907,     0.80659,      0.8032,      0.8007,     0.79799,     0.79565,     0.79338,     0.79053,     0.78853,     0.78567,      0.7836,     0.77985,     0.77667,     0.77283,     0.77009,     0.76625,     0.76353,     0.75977,     0.75694,     0.75468,     0.75113,\n",
       "            0.74752,     0.74328,      0.7397,     0.73553,     0.73172,     0.72748,     0.72393,     0.72073,     0.71786,     0.71297,     0.70832,     0.70508,     0.70103,     0.69826,     0.69362,     0.68983,     0.68506,     0.68248,     0.67666,     0.67275,     0.66904,      0.6645,      0.6605,\n",
       "            0.65534,     0.65143,     0.64569,     0.64119,     0.63738,     0.63261,     0.62857,     0.62406,     0.61968,     0.61281,     0.60817,     0.60342,      0.5979,     0.59221,     0.58718,     0.58084,     0.57564,     0.56944,     0.56389,     0.55809,     0.55205,     0.54682,     0.54029,\n",
       "            0.53488,     0.52729,     0.52227,     0.51717,     0.50919,     0.50184,      0.4957,     0.48805,     0.48348,     0.47856,     0.47201,     0.46349,     0.45688,     0.44949,     0.44425,      0.4353,     0.42742,     0.41994,     0.41201,     0.40423,     0.39715,     0.38907,      0.3814,\n",
       "            0.37166,     0.36338,     0.35467,     0.34774,     0.33888,     0.33207,     0.32171,     0.31414,      0.3044,     0.29408,     0.28428,     0.27352,      0.2661,     0.25712,     0.24901,     0.23639,     0.22716,     0.21621,     0.20515,     0.19653,     0.18374,     0.17413,      0.1614,\n",
       "            0.15006,     0.13597,     0.12337,     0.11491,      0.1145,      0.1141,     0.11369,     0.11328,     0.11288,     0.11247,     0.11207,     0.11166,     0.11125,     0.11085,     0.11044,     0.11004,     0.10963,     0.10922,     0.10882,     0.10841,     0.10801,      0.1076,     0.10719,\n",
       "            0.10679,     0.10638,     0.10598,     0.10557,     0.10516,     0.10476,     0.10435,     0.10394,     0.10354,     0.10313,     0.10273,     0.10232,     0.10191,     0.10151,      0.1011,      0.1007,     0.10029,    0.099885,    0.099479,    0.099073,    0.098666,     0.09826,    0.097854,\n",
       "           0.097448,    0.097042,    0.096636,     0.09623,    0.095824,    0.095418,    0.095012,    0.094606,      0.0942,    0.093794,    0.093388,    0.092982,    0.092576,     0.09217,    0.091764,    0.091358,    0.090952,    0.090546,     0.09014,    0.089734,    0.089328,    0.088922,    0.088516,\n",
       "            0.08811,    0.087704,    0.087298,    0.086891,    0.086485,    0.086079,    0.085673,    0.085267,    0.084861,    0.084455,    0.084049,    0.083643,    0.083237,    0.082831,    0.082425,    0.082019,    0.081613,    0.081207,    0.080801,    0.080395,    0.079989,    0.079583,    0.079177,\n",
       "           0.078771,    0.078365,    0.077959,    0.077553,    0.077147,    0.076741,    0.076335,    0.075929,    0.075523,    0.075116,     0.07471,    0.074304,    0.073898,    0.073492,    0.073086,     0.07268,    0.072274,    0.071868,    0.071462,    0.071056,     0.07065,    0.070244,    0.069838,\n",
       "           0.069432,    0.069026,     0.06862,    0.068214,    0.067808,    0.067402,    0.066996,     0.06659,    0.066184,    0.065778,    0.065372,    0.064966,     0.06456,    0.064154,    0.063747,    0.063341,    0.062935,    0.062529,    0.062123,    0.061717,    0.061311,    0.060905,    0.060499,\n",
       "           0.060093,    0.059687,    0.059281,    0.058875,    0.058469,    0.058063,    0.057657,    0.057251,    0.056845,    0.056439,    0.056033,    0.055627,    0.055221,    0.054815,    0.054409,    0.054003,    0.053597,    0.053191,    0.052785,    0.052379,    0.051972,    0.051566,     0.05116,\n",
       "           0.050754,    0.050348,    0.049942,    0.049536,     0.04913,    0.048724,    0.048318,    0.047912,    0.047506,      0.0471,    0.046694,    0.046288,    0.045882,    0.045476,     0.04507,    0.044664,    0.044258,    0.043852,    0.043446,     0.04304,    0.042634,    0.042228,    0.041822,\n",
       "           0.041416,     0.04101,    0.040603,    0.040197,    0.039791,    0.039385,    0.038979,    0.038573,    0.038167,    0.037761,    0.037355,    0.036949,    0.036543,    0.036137,    0.035731,    0.035325,    0.034919,    0.034513,    0.034107,    0.033701,    0.033295,    0.032889,    0.032483,\n",
       "           0.032077,    0.031671,    0.031265,    0.030859,    0.030453,    0.030047,    0.029641,    0.029235,    0.028828,    0.028422,    0.028016,     0.02761,    0.027204,    0.026798,    0.026392,    0.025986,     0.02558,    0.025174,    0.024768,    0.024362,    0.023956,     0.02355,    0.023144,\n",
       "           0.022738,    0.022332,    0.021926,     0.02152,    0.021114,    0.020708,    0.020302,    0.019896,     0.01949,    0.019084,    0.018678,    0.018272,    0.017866,     0.01746,    0.017053,    0.016647,    0.016241,    0.015835,    0.015429,    0.015023,    0.014617,    0.014211,    0.013805,\n",
       "           0.013399,    0.012993,    0.012587,    0.012181,    0.011775,    0.011369,    0.010963,    0.010557,    0.010151,   0.0097448,   0.0093388,   0.0089328,   0.0085267,   0.0081207,   0.0077147,   0.0073086,   0.0069026,   0.0064966,   0.0060905,   0.0056845,   0.0052785,   0.0048724,   0.0044664,\n",
       "          0.0040603,   0.0036543,   0.0032483,   0.0028422,   0.0024362,   0.0020302,   0.0016241,   0.0012181,  0.00081207,  0.00040603,           0]]), 'Recall', 'Precision'], [array([          0,    0.001001,    0.002002,    0.003003,    0.004004,    0.005005,    0.006006,    0.007007,    0.008008,    0.009009,     0.01001,    0.011011,    0.012012,    0.013013,    0.014014,    0.015015,    0.016016,    0.017017,    0.018018,    0.019019,     0.02002,    0.021021,    0.022022,    0.023023,\n",
       "          0.024024,    0.025025,    0.026026,    0.027027,    0.028028,    0.029029,     0.03003,    0.031031,    0.032032,    0.033033,    0.034034,    0.035035,    0.036036,    0.037037,    0.038038,    0.039039,     0.04004,    0.041041,    0.042042,    0.043043,    0.044044,    0.045045,    0.046046,    0.047047,\n",
       "          0.048048,    0.049049,     0.05005,    0.051051,    0.052052,    0.053053,    0.054054,    0.055055,    0.056056,    0.057057,    0.058058,    0.059059,     0.06006,    0.061061,    0.062062,    0.063063,    0.064064,    0.065065,    0.066066,    0.067067,    0.068068,    0.069069,     0.07007,    0.071071,\n",
       "          0.072072,    0.073073,    0.074074,    0.075075,    0.076076,    0.077077,    0.078078,    0.079079,     0.08008,    0.081081,    0.082082,    0.083083,    0.084084,    0.085085,    0.086086,    0.087087,    0.088088,    0.089089,     0.09009,    0.091091,    0.092092,    0.093093,    0.094094,    0.095095,\n",
       "          0.096096,    0.097097,    0.098098,    0.099099,      0.1001,      0.1011,      0.1021,      0.1031,      0.1041,     0.10511,     0.10611,     0.10711,     0.10811,     0.10911,     0.11011,     0.11111,     0.11211,     0.11311,     0.11411,     0.11512,     0.11612,     0.11712,     0.11812,     0.11912,\n",
       "           0.12012,     0.12112,     0.12212,     0.12312,     0.12412,     0.12513,     0.12613,     0.12713,     0.12813,     0.12913,     0.13013,     0.13113,     0.13213,     0.13313,     0.13413,     0.13514,     0.13614,     0.13714,     0.13814,     0.13914,     0.14014,     0.14114,     0.14214,     0.14314,\n",
       "           0.14414,     0.14515,     0.14615,     0.14715,     0.14815,     0.14915,     0.15015,     0.15115,     0.15215,     0.15315,     0.15415,     0.15516,     0.15616,     0.15716,     0.15816,     0.15916,     0.16016,     0.16116,     0.16216,     0.16316,     0.16416,     0.16517,     0.16617,     0.16717,\n",
       "           0.16817,     0.16917,     0.17017,     0.17117,     0.17217,     0.17317,     0.17417,     0.17518,     0.17618,     0.17718,     0.17818,     0.17918,     0.18018,     0.18118,     0.18218,     0.18318,     0.18418,     0.18519,     0.18619,     0.18719,     0.18819,     0.18919,     0.19019,     0.19119,\n",
       "           0.19219,     0.19319,     0.19419,      0.1952,      0.1962,      0.1972,      0.1982,      0.1992,      0.2002,      0.2012,      0.2022,      0.2032,      0.2042,     0.20521,     0.20621,     0.20721,     0.20821,     0.20921,     0.21021,     0.21121,     0.21221,     0.21321,     0.21421,     0.21522,\n",
       "           0.21622,     0.21722,     0.21822,     0.21922,     0.22022,     0.22122,     0.22222,     0.22322,     0.22422,     0.22523,     0.22623,     0.22723,     0.22823,     0.22923,     0.23023,     0.23123,     0.23223,     0.23323,     0.23423,     0.23524,     0.23624,     0.23724,     0.23824,     0.23924,\n",
       "           0.24024,     0.24124,     0.24224,     0.24324,     0.24424,     0.24525,     0.24625,     0.24725,     0.24825,     0.24925,     0.25025,     0.25125,     0.25225,     0.25325,     0.25425,     0.25526,     0.25626,     0.25726,     0.25826,     0.25926,     0.26026,     0.26126,     0.26226,     0.26326,\n",
       "           0.26426,     0.26527,     0.26627,     0.26727,     0.26827,     0.26927,     0.27027,     0.27127,     0.27227,     0.27327,     0.27427,     0.27528,     0.27628,     0.27728,     0.27828,     0.27928,     0.28028,     0.28128,     0.28228,     0.28328,     0.28428,     0.28529,     0.28629,     0.28729,\n",
       "           0.28829,     0.28929,     0.29029,     0.29129,     0.29229,     0.29329,     0.29429,      0.2953,      0.2963,      0.2973,      0.2983,      0.2993,      0.3003,      0.3013,      0.3023,      0.3033,      0.3043,     0.30531,     0.30631,     0.30731,     0.30831,     0.30931,     0.31031,     0.31131,\n",
       "           0.31231,     0.31331,     0.31431,     0.31532,     0.31632,     0.31732,     0.31832,     0.31932,     0.32032,     0.32132,     0.32232,     0.32332,     0.32432,     0.32533,     0.32633,     0.32733,     0.32833,     0.32933,     0.33033,     0.33133,     0.33233,     0.33333,     0.33433,     0.33534,\n",
       "           0.33634,     0.33734,     0.33834,     0.33934,     0.34034,     0.34134,     0.34234,     0.34334,     0.34434,     0.34535,     0.34635,     0.34735,     0.34835,     0.34935,     0.35035,     0.35135,     0.35235,     0.35335,     0.35435,     0.35536,     0.35636,     0.35736,     0.35836,     0.35936,\n",
       "           0.36036,     0.36136,     0.36236,     0.36336,     0.36436,     0.36537,     0.36637,     0.36737,     0.36837,     0.36937,     0.37037,     0.37137,     0.37237,     0.37337,     0.37437,     0.37538,     0.37638,     0.37738,     0.37838,     0.37938,     0.38038,     0.38138,     0.38238,     0.38338,\n",
       "           0.38438,     0.38539,     0.38639,     0.38739,     0.38839,     0.38939,     0.39039,     0.39139,     0.39239,     0.39339,     0.39439,      0.3954,      0.3964,      0.3974,      0.3984,      0.3994,      0.4004,      0.4014,      0.4024,      0.4034,      0.4044,     0.40541,     0.40641,     0.40741,\n",
       "           0.40841,     0.40941,     0.41041,     0.41141,     0.41241,     0.41341,     0.41441,     0.41542,     0.41642,     0.41742,     0.41842,     0.41942,     0.42042,     0.42142,     0.42242,     0.42342,     0.42442,     0.42543,     0.42643,     0.42743,     0.42843,     0.42943,     0.43043,     0.43143,\n",
       "           0.43243,     0.43343,     0.43443,     0.43544,     0.43644,     0.43744,     0.43844,     0.43944,     0.44044,     0.44144,     0.44244,     0.44344,     0.44444,     0.44545,     0.44645,     0.44745,     0.44845,     0.44945,     0.45045,     0.45145,     0.45245,     0.45345,     0.45445,     0.45546,\n",
       "           0.45646,     0.45746,     0.45846,     0.45946,     0.46046,     0.46146,     0.46246,     0.46346,     0.46446,     0.46547,     0.46647,     0.46747,     0.46847,     0.46947,     0.47047,     0.47147,     0.47247,     0.47347,     0.47447,     0.47548,     0.47648,     0.47748,     0.47848,     0.47948,\n",
       "           0.48048,     0.48148,     0.48248,     0.48348,     0.48448,     0.48549,     0.48649,     0.48749,     0.48849,     0.48949,     0.49049,     0.49149,     0.49249,     0.49349,     0.49449,      0.4955,      0.4965,      0.4975,      0.4985,      0.4995,      0.5005,      0.5015,      0.5025,      0.5035,\n",
       "            0.5045,     0.50551,     0.50651,     0.50751,     0.50851,     0.50951,     0.51051,     0.51151,     0.51251,     0.51351,     0.51451,     0.51552,     0.51652,     0.51752,     0.51852,     0.51952,     0.52052,     0.52152,     0.52252,     0.52352,     0.52452,     0.52553,     0.52653,     0.52753,\n",
       "           0.52853,     0.52953,     0.53053,     0.53153,     0.53253,     0.53353,     0.53453,     0.53554,     0.53654,     0.53754,     0.53854,     0.53954,     0.54054,     0.54154,     0.54254,     0.54354,     0.54454,     0.54555,     0.54655,     0.54755,     0.54855,     0.54955,     0.55055,     0.55155,\n",
       "           0.55255,     0.55355,     0.55455,     0.55556,     0.55656,     0.55756,     0.55856,     0.55956,     0.56056,     0.56156,     0.56256,     0.56356,     0.56456,     0.56557,     0.56657,     0.56757,     0.56857,     0.56957,     0.57057,     0.57157,     0.57257,     0.57357,     0.57457,     0.57558,\n",
       "           0.57658,     0.57758,     0.57858,     0.57958,     0.58058,     0.58158,     0.58258,     0.58358,     0.58458,     0.58559,     0.58659,     0.58759,     0.58859,     0.58959,     0.59059,     0.59159,     0.59259,     0.59359,     0.59459,      0.5956,      0.5966,      0.5976,      0.5986,      0.5996,\n",
       "            0.6006,      0.6016,      0.6026,      0.6036,      0.6046,     0.60561,     0.60661,     0.60761,     0.60861,     0.60961,     0.61061,     0.61161,     0.61261,     0.61361,     0.61461,     0.61562,     0.61662,     0.61762,     0.61862,     0.61962,     0.62062,     0.62162,     0.62262,     0.62362,\n",
       "           0.62462,     0.62563,     0.62663,     0.62763,     0.62863,     0.62963,     0.63063,     0.63163,     0.63263,     0.63363,     0.63463,     0.63564,     0.63664,     0.63764,     0.63864,     0.63964,     0.64064,     0.64164,     0.64264,     0.64364,     0.64464,     0.64565,     0.64665,     0.64765,\n",
       "           0.64865,     0.64965,     0.65065,     0.65165,     0.65265,     0.65365,     0.65465,     0.65566,     0.65666,     0.65766,     0.65866,     0.65966,     0.66066,     0.66166,     0.66266,     0.66366,     0.66466,     0.66567,     0.66667,     0.66767,     0.66867,     0.66967,     0.67067,     0.67167,\n",
       "           0.67267,     0.67367,     0.67467,     0.67568,     0.67668,     0.67768,     0.67868,     0.67968,     0.68068,     0.68168,     0.68268,     0.68368,     0.68468,     0.68569,     0.68669,     0.68769,     0.68869,     0.68969,     0.69069,     0.69169,     0.69269,     0.69369,     0.69469,      0.6957,\n",
       "            0.6967,      0.6977,      0.6987,      0.6997,      0.7007,      0.7017,      0.7027,      0.7037,      0.7047,     0.70571,     0.70671,     0.70771,     0.70871,     0.70971,     0.71071,     0.71171,     0.71271,     0.71371,     0.71471,     0.71572,     0.71672,     0.71772,     0.71872,     0.71972,\n",
       "           0.72072,     0.72172,     0.72272,     0.72372,     0.72472,     0.72573,     0.72673,     0.72773,     0.72873,     0.72973,     0.73073,     0.73173,     0.73273,     0.73373,     0.73473,     0.73574,     0.73674,     0.73774,     0.73874,     0.73974,     0.74074,     0.74174,     0.74274,     0.74374,\n",
       "           0.74474,     0.74575,     0.74675,     0.74775,     0.74875,     0.74975,     0.75075,     0.75175,     0.75275,     0.75375,     0.75475,     0.75576,     0.75676,     0.75776,     0.75876,     0.75976,     0.76076,     0.76176,     0.76276,     0.76376,     0.76476,     0.76577,     0.76677,     0.76777,\n",
       "           0.76877,     0.76977,     0.77077,     0.77177,     0.77277,     0.77377,     0.77477,     0.77578,     0.77678,     0.77778,     0.77878,     0.77978,     0.78078,     0.78178,     0.78278,     0.78378,     0.78478,     0.78579,     0.78679,     0.78779,     0.78879,     0.78979,     0.79079,     0.79179,\n",
       "           0.79279,     0.79379,     0.79479,      0.7958,      0.7968,      0.7978,      0.7988,      0.7998,      0.8008,      0.8018,      0.8028,      0.8038,      0.8048,     0.80581,     0.80681,     0.80781,     0.80881,     0.80981,     0.81081,     0.81181,     0.81281,     0.81381,     0.81481,     0.81582,\n",
       "           0.81682,     0.81782,     0.81882,     0.81982,     0.82082,     0.82182,     0.82282,     0.82382,     0.82482,     0.82583,     0.82683,     0.82783,     0.82883,     0.82983,     0.83083,     0.83183,     0.83283,     0.83383,     0.83483,     0.83584,     0.83684,     0.83784,     0.83884,     0.83984,\n",
       "           0.84084,     0.84184,     0.84284,     0.84384,     0.84484,     0.84585,     0.84685,     0.84785,     0.84885,     0.84985,     0.85085,     0.85185,     0.85285,     0.85385,     0.85485,     0.85586,     0.85686,     0.85786,     0.85886,     0.85986,     0.86086,     0.86186,     0.86286,     0.86386,\n",
       "           0.86486,     0.86587,     0.86687,     0.86787,     0.86887,     0.86987,     0.87087,     0.87187,     0.87287,     0.87387,     0.87487,     0.87588,     0.87688,     0.87788,     0.87888,     0.87988,     0.88088,     0.88188,     0.88288,     0.88388,     0.88488,     0.88589,     0.88689,     0.88789,\n",
       "           0.88889,     0.88989,     0.89089,     0.89189,     0.89289,     0.89389,     0.89489,      0.8959,      0.8969,      0.8979,      0.8989,      0.8999,      0.9009,      0.9019,      0.9029,      0.9039,      0.9049,     0.90591,     0.90691,     0.90791,     0.90891,     0.90991,     0.91091,     0.91191,\n",
       "           0.91291,     0.91391,     0.91491,     0.91592,     0.91692,     0.91792,     0.91892,     0.91992,     0.92092,     0.92192,     0.92292,     0.92392,     0.92492,     0.92593,     0.92693,     0.92793,     0.92893,     0.92993,     0.93093,     0.93193,     0.93293,     0.93393,     0.93493,     0.93594,\n",
       "           0.93694,     0.93794,     0.93894,     0.93994,     0.94094,     0.94194,     0.94294,     0.94394,     0.94494,     0.94595,     0.94695,     0.94795,     0.94895,     0.94995,     0.95095,     0.95195,     0.95295,     0.95395,     0.95495,     0.95596,     0.95696,     0.95796,     0.95896,     0.95996,\n",
       "           0.96096,     0.96196,     0.96296,     0.96396,     0.96496,     0.96597,     0.96697,     0.96797,     0.96897,     0.96997,     0.97097,     0.97197,     0.97297,     0.97397,     0.97497,     0.97598,     0.97698,     0.97798,     0.97898,     0.97998,     0.98098,     0.98198,     0.98298,     0.98398,\n",
       "           0.98498,     0.98599,     0.98699,     0.98799,     0.98899,     0.98999,     0.99099,     0.99199,     0.99299,     0.99399,     0.99499,       0.996,       0.997,       0.998,       0.999,           1]), array([[    0.19838,     0.19838,     0.24527,     0.27747,     0.30251,     0.32334,     0.34096,     0.35608,     0.37045,     0.38284,     0.39449,     0.40467,     0.41448,     0.42317,      0.4318,     0.43932,     0.44657,     0.45374,      0.4604,     0.46645,     0.47286,      0.4785,     0.48397,\n",
       "            0.48955,      0.4945,     0.49943,     0.50414,     0.50873,     0.51333,     0.51725,     0.52141,     0.52537,     0.52897,     0.53279,     0.53637,     0.53981,     0.54268,     0.54559,     0.54921,     0.55202,     0.55507,     0.55826,     0.56054,     0.56346,     0.56563,     0.56825,\n",
       "            0.57087,     0.57265,     0.57526,      0.5778,     0.57988,     0.58175,     0.58435,      0.5864,     0.58827,     0.59033,      0.5924,     0.59403,     0.59583,     0.59769,     0.59938,     0.60128,      0.6028,     0.60479,     0.60618,     0.60768,     0.60906,     0.61068,     0.61247,\n",
       "            0.61408,     0.61547,     0.61696,     0.61815,      0.6197,     0.62108,     0.62251,     0.62354,     0.62486,     0.62633,     0.62746,     0.62885,     0.62978,     0.63085,     0.63222,     0.63353,     0.63502,     0.63594,     0.63693,     0.63784,     0.63879,     0.64023,     0.64087,\n",
       "            0.64186,     0.64286,     0.64362,     0.64443,     0.64531,     0.64632,     0.64735,     0.64815,     0.64908,     0.64993,     0.65088,     0.65171,     0.65214,     0.65297,     0.65363,     0.65445,       0.655,     0.65582,     0.65652,     0.65715,     0.65809,     0.65872,     0.65972,\n",
       "            0.66015,     0.66075,     0.66137,     0.66215,      0.6625,     0.66337,     0.66387,     0.66457,     0.66517,     0.66555,      0.6663,     0.66673,     0.66724,     0.66775,     0.66839,     0.66902,     0.66938,     0.67009,     0.67058,     0.67107,     0.67131,     0.67173,     0.67203,\n",
       "            0.67244,     0.67293,     0.67328,     0.67375,     0.67417,     0.67465,      0.6751,     0.67558,     0.67605,     0.67653,     0.67702,     0.67735,      0.6778,     0.67819,     0.67863,      0.6789,     0.67945,     0.67987,     0.68024,     0.68062,     0.68064,     0.68081,     0.68105,\n",
       "            0.68131,     0.68152,     0.68202,     0.68234,     0.68261,     0.68278,      0.6829,     0.68334,     0.68367,     0.68383,     0.68413,     0.68439,     0.68458,     0.68497,     0.68526,     0.68553,     0.68562,     0.68597,     0.68611,     0.68647,     0.68651,     0.68656,      0.6868,\n",
       "            0.68692,      0.6871,     0.68714,      0.6873,     0.68748,     0.68753,     0.68762,     0.68777,     0.68794,     0.68798,     0.68795,     0.68825,     0.68846,     0.68853,      0.6887,     0.68876,     0.68902,     0.68932,     0.68943,     0.68945,     0.68951,     0.68964,     0.68974,\n",
       "            0.68995,     0.68998,     0.68984,     0.68999,     0.68996,     0.69006,     0.69003,     0.69008,     0.69018,     0.69023,     0.69035,     0.69027,     0.69032,     0.69049,     0.69053,     0.69064,      0.6907,     0.69073,     0.69073,     0.69084,      0.6909,     0.69097,     0.69098,\n",
       "            0.69086,     0.69086,     0.69086,     0.69093,     0.69099,     0.69108,     0.69112,      0.6913,      0.6914,     0.69145,     0.69149,      0.6915,     0.69163,     0.69165,     0.69143,     0.69158,     0.69145,     0.69159,     0.69141,     0.69146,     0.69145,     0.69155,     0.69153,\n",
       "            0.69152,     0.69156,      0.6916,     0.69167,     0.69153,     0.69149,     0.69137,     0.69138,     0.69151,     0.69155,     0.69159,      0.6916,     0.69162,     0.69165,     0.69159,     0.69158,     0.69146,     0.69128,     0.69133,     0.69127,     0.69113,     0.69107,     0.69078,\n",
       "            0.69068,      0.6906,     0.69062,     0.69041,     0.69039,     0.69041,     0.69034,     0.69035,     0.69035,      0.6904,     0.69025,     0.69027,     0.69029,      0.6902,      0.6902,      0.6901,     0.69011,     0.69012,        0.69,     0.68981,     0.68963,     0.68941,     0.68936,\n",
       "            0.68904,     0.68898,     0.68886,     0.68876,     0.68867,     0.68851,     0.68843,     0.68836,      0.6883,     0.68816,     0.68814,     0.68808,     0.68794,     0.68783,     0.68771,      0.6875,     0.68738,     0.68722,     0.68705,     0.68709,       0.687,     0.68688,      0.6867,\n",
       "            0.68665,     0.68644,      0.6863,     0.68628,     0.68611,     0.68599,     0.68587,     0.68557,     0.68533,     0.68521,     0.68497,     0.68478,     0.68469,     0.68459,     0.68449,     0.68429,     0.68412,     0.68386,      0.6836,     0.68359,     0.68331,     0.68296,     0.68275,\n",
       "             0.6827,     0.68255,     0.68237,     0.68226,     0.68209,     0.68195,     0.68177,     0.68153,     0.68118,     0.68095,     0.68074,     0.68055,     0.68039,     0.68013,     0.67989,     0.67938,     0.67902,     0.67901,      0.6787,     0.67871,     0.67832,     0.67831,     0.67794,\n",
       "            0.67792,     0.67736,     0.67707,     0.67706,     0.67659,     0.67658,     0.67606,     0.67605,      0.6757,     0.67568,      0.6751,     0.67509,     0.67474,     0.67423,     0.67422,     0.67397,     0.67396,     0.67352,     0.67351,     0.67319,     0.67318,     0.67267,     0.67217,\n",
       "            0.67216,     0.67179,     0.67179,     0.67144,     0.67142,      0.6709,     0.67089,     0.67028,     0.67027,     0.66996,     0.66995,     0.66921,      0.6692,     0.66876,     0.66875,      0.6683,     0.66798,     0.66797,     0.66751,     0.66749,     0.66668,     0.66668,     0.66622,\n",
       "            0.66621,     0.66589,     0.66588,     0.66553,     0.66552,     0.66501,       0.665,     0.66431,      0.6643,     0.66376,     0.66321,     0.66322,     0.66277,     0.66276,     0.66199,     0.66198,     0.66164,     0.66164,     0.66103,     0.66102,     0.66042,     0.66041,     0.65973,\n",
       "            0.65972,     0.65912,     0.65911,     0.65864,     0.65863,     0.65811,      0.6581,     0.65751,     0.65751,     0.65686,     0.65685,     0.65603,     0.65602,     0.65512,     0.65465,     0.65464,      0.6539,     0.65389,      0.6535,     0.65349,     0.65277,     0.65276,     0.65194,\n",
       "            0.65193,     0.65114,     0.65113,     0.65047,     0.65047,     0.64976,     0.64975,     0.64913,     0.64913,     0.64848,     0.64849,     0.64796,     0.64795,     0.64732,     0.64731,     0.64651,     0.64651,     0.64581,     0.64579,     0.64517,     0.64442,      0.6444,     0.64357,\n",
       "            0.64356,     0.64253,     0.64252,     0.64195,     0.64194,     0.64133,     0.64131,      0.6405,     0.64049,     0.63959,     0.63958,     0.63892,      0.6389,     0.63797,     0.63796,     0.63733,     0.63733,     0.63658,     0.63657,     0.63588,     0.63588,     0.63503,     0.63502,\n",
       "            0.63444,     0.63443,     0.63379,     0.63378,     0.63321,      0.6332,     0.63236,     0.63236,     0.63178,     0.63177,     0.63061,      0.6306,     0.62977,     0.62976,     0.62876,     0.62793,     0.62792,     0.62708,     0.62707,     0.62607,     0.62605,     0.62504,     0.62503,\n",
       "             0.6242,     0.62418,     0.62346,     0.62344,     0.62264,     0.62263,     0.62188,     0.62187,      0.6211,     0.62109,     0.62015,     0.62013,     0.61914,     0.61913,     0.61836,     0.61835,     0.61738,     0.61737,     0.61666,     0.61665,     0.61579,     0.61578,      0.6148,\n",
       "            0.61478,     0.61386,     0.61385,     0.61271,     0.61271,     0.61194,     0.61136,     0.61136,     0.61059,     0.61058,     0.60955,     0.60956,     0.60858,     0.60856,     0.60785,     0.60786,     0.60689,     0.60687,     0.60582,     0.60581,     0.60478,     0.60477,     0.60353,\n",
       "            0.60354,     0.60278,     0.60277,     0.60181,      0.6018,     0.60074,     0.59957,     0.59955,     0.59866,     0.59866,     0.59748,     0.59746,     0.59627,     0.59625,     0.59524,     0.59523,      0.5941,     0.59408,     0.59303,     0.59302,     0.59184,     0.59106,     0.59104,\n",
       "            0.59014,     0.59013,     0.58921,      0.5892,      0.5881,     0.58809,     0.58706,     0.58705,     0.58598,     0.58488,     0.58487,     0.58386,     0.58385,     0.58269,     0.58268,     0.58155,     0.58154,     0.58044,     0.58043,     0.57922,      0.5792,     0.57832,     0.57722,\n",
       "            0.57722,     0.57597,     0.57595,     0.57467,     0.57465,     0.57355,     0.57353,     0.57212,     0.57211,     0.57104,     0.57103,      0.5699,     0.56854,     0.56852,     0.56738,     0.56737,     0.56603,     0.56602,     0.56511,     0.56381,      0.5638,      0.5624,     0.56238,\n",
       "            0.56108,     0.56106,      0.5597,     0.55968,     0.55846,     0.55718,     0.55717,     0.55529,     0.55527,     0.55398,     0.55397,     0.55277,     0.55275,     0.55176,     0.55027,     0.55025,     0.54889,     0.54888,     0.54731,     0.54611,      0.5461,     0.54449,     0.54447,\n",
       "            0.54294,     0.54293,     0.54157,     0.54033,     0.54032,     0.53912,      0.5391,     0.53741,      0.5374,     0.53597,     0.53449,     0.53448,     0.53269,     0.53127,     0.53125,      0.5296,     0.52959,     0.52805,     0.52803,     0.52651,      0.5249,     0.52488,     0.52304,\n",
       "            0.52302,     0.52163,     0.52162,     0.52029,     0.51852,      0.5185,     0.51684,     0.51683,     0.51527,     0.51326,     0.51173,     0.51171,     0.51007,     0.51005,     0.50867,     0.50702,     0.50701,     0.50534,     0.50532,     0.50399,     0.50243,     0.50242,     0.50088,\n",
       "            0.50086,     0.49934,     0.49756,     0.49754,     0.49533,     0.49532,     0.49333,     0.49146,     0.48967,     0.48965,     0.48756,     0.48754,     0.48592,     0.48353,     0.48351,     0.48173,     0.48007,     0.48005,     0.47811,     0.47641,     0.47641,     0.47413,     0.47411,\n",
       "            0.47205,     0.46988,     0.46986,     0.46746,     0.46561,     0.46338,     0.46335,     0.46168,     0.45908,     0.45906,     0.45706,     0.45461,     0.45459,     0.45207,     0.45004,     0.45002,     0.44792,     0.44515,     0.44513,     0.44271,     0.44025,     0.44023,     0.43766,\n",
       "            0.43463,     0.43215,     0.43213,     0.42926,     0.42622,     0.42341,     0.42339,     0.42078,     0.41759,     0.41757,      0.4149,     0.41183,     0.41181,     0.40932,     0.40642,     0.40342,      0.4034,     0.40062,     0.39771,     0.39769,     0.39438,     0.39186,     0.38939,\n",
       "            0.38614,     0.38611,     0.38271,     0.37919,      0.3755,     0.37548,     0.37195,     0.36842,     0.36455,     0.36453,     0.36028,     0.35721,     0.35331,     0.35329,     0.34928,     0.34544,     0.34102,     0.33715,     0.33262,     0.32929,     0.32926,     0.32473,     0.32059,\n",
       "            0.31634,     0.31176,     0.31173,     0.30756,     0.30284,     0.29885,     0.29403,       0.294,      0.2903,     0.28503,     0.28009,     0.27501,      0.2698,     0.26977,     0.26459,     0.25414,     0.25411,     0.24873,      0.2435,      0.2386,     0.23281,     0.22705,     0.22225,\n",
       "            0.22222,     0.21671,     0.21145,      0.2045,     0.19898,     0.19349,     0.18776,     0.18291,     0.17724,     0.17117,     0.17114,     0.16514,     0.15397,      0.1482,     0.14309,     0.13756,     0.13222,     0.12618,     0.12615,     0.12101,     0.11633,     0.11127,     0.10672,\n",
       "             0.1021,    0.097874,    0.093581,    0.089084,    0.085351,    0.080908,    0.076911,    0.073411,     0.06971,    0.063117,    0.059449,    0.056456,    0.053596,    0.050824,    0.048236,    0.046026,    0.043907,     0.03973,    0.037936,    0.035849,    0.034632,    0.032863,    0.031975,\n",
       "           0.030315,    0.028847,    0.027009,    0.025831,    0.024873,     0.02374,    0.021869,    0.020584,     0.01977,    0.019078,    0.017618,    0.017015,    0.016105,    0.015459,    0.014242,    0.013682,    0.013121,    0.012499,    0.011785,    0.011426,    0.011126,    0.010003,   0.0094824,\n",
       "          0.0087535,   0.0082792,   0.0080268,   0.0077007,   0.0071745,   0.0068696,   0.0064216,   0.0063141,   0.0057683,   0.0053577,   0.0050895,   0.0047513,   0.0045105,   0.0044455,    0.004157,   0.0039389,   0.0037356,    0.003526,   0.0033793,   0.0032545,   0.0032202,   0.0029199,    0.002641,\n",
       "          0.0025982,   0.0025643,   0.0025386,   0.0025054,   0.0023632,   0.0023517,   0.0023403,   0.0023288,   0.0023174,   0.0022955,   0.0022697,   0.0021335,   0.0019802,   0.0019503,   0.0019356,   0.0019208,   0.0019061,   0.0018914,   0.0018767,   0.0018619,   0.0017988,   0.0017859,    0.001773,\n",
       "          0.0017581,   0.0017237,   0.0016785,    0.001593,   0.0015251,   0.0014735,   0.0014345,   0.0014038,   0.0013832,   0.0013626,   0.0013484,   0.0013355,   0.0013226,   0.0013097,   0.0012968,   0.0012839,    0.001271,    0.001256,   0.0011394,      0.0011,  0.00095531,  0.00094241,  0.00092952,\n",
       "         0.00091662,  0.00089621,  0.00084462,  0.00080056,  0.00077993,  0.00075929,  0.00066342,  0.00059545,  0.00056965,  0.00046335,   0.0004377,   0.0004205,   0.0004033,  0.00038274,   0.0003621,  0.00029718,  0.00024603,   0.0002357,  0.00022538,  0.00021506,  0.00020473,  0.00019139,  0.00017664,\n",
       "         0.00016189,  0.00014858,  0.00013919,  0.00012981,  0.00012042,  0.00011104,  0.00010165,  7.7441e-05,  5.1628e-05,           0,           0]]), 'Confidence', 'F1'], [array([          0,    0.001001,    0.002002,    0.003003,    0.004004,    0.005005,    0.006006,    0.007007,    0.008008,    0.009009,     0.01001,    0.011011,    0.012012,    0.013013,    0.014014,    0.015015,    0.016016,    0.017017,    0.018018,    0.019019,     0.02002,    0.021021,    0.022022,    0.023023,\n",
       "          0.024024,    0.025025,    0.026026,    0.027027,    0.028028,    0.029029,     0.03003,    0.031031,    0.032032,    0.033033,    0.034034,    0.035035,    0.036036,    0.037037,    0.038038,    0.039039,     0.04004,    0.041041,    0.042042,    0.043043,    0.044044,    0.045045,    0.046046,    0.047047,\n",
       "          0.048048,    0.049049,     0.05005,    0.051051,    0.052052,    0.053053,    0.054054,    0.055055,    0.056056,    0.057057,    0.058058,    0.059059,     0.06006,    0.061061,    0.062062,    0.063063,    0.064064,    0.065065,    0.066066,    0.067067,    0.068068,    0.069069,     0.07007,    0.071071,\n",
       "          0.072072,    0.073073,    0.074074,    0.075075,    0.076076,    0.077077,    0.078078,    0.079079,     0.08008,    0.081081,    0.082082,    0.083083,    0.084084,    0.085085,    0.086086,    0.087087,    0.088088,    0.089089,     0.09009,    0.091091,    0.092092,    0.093093,    0.094094,    0.095095,\n",
       "          0.096096,    0.097097,    0.098098,    0.099099,      0.1001,      0.1011,      0.1021,      0.1031,      0.1041,     0.10511,     0.10611,     0.10711,     0.10811,     0.10911,     0.11011,     0.11111,     0.11211,     0.11311,     0.11411,     0.11512,     0.11612,     0.11712,     0.11812,     0.11912,\n",
       "           0.12012,     0.12112,     0.12212,     0.12312,     0.12412,     0.12513,     0.12613,     0.12713,     0.12813,     0.12913,     0.13013,     0.13113,     0.13213,     0.13313,     0.13413,     0.13514,     0.13614,     0.13714,     0.13814,     0.13914,     0.14014,     0.14114,     0.14214,     0.14314,\n",
       "           0.14414,     0.14515,     0.14615,     0.14715,     0.14815,     0.14915,     0.15015,     0.15115,     0.15215,     0.15315,     0.15415,     0.15516,     0.15616,     0.15716,     0.15816,     0.15916,     0.16016,     0.16116,     0.16216,     0.16316,     0.16416,     0.16517,     0.16617,     0.16717,\n",
       "           0.16817,     0.16917,     0.17017,     0.17117,     0.17217,     0.17317,     0.17417,     0.17518,     0.17618,     0.17718,     0.17818,     0.17918,     0.18018,     0.18118,     0.18218,     0.18318,     0.18418,     0.18519,     0.18619,     0.18719,     0.18819,     0.18919,     0.19019,     0.19119,\n",
       "           0.19219,     0.19319,     0.19419,      0.1952,      0.1962,      0.1972,      0.1982,      0.1992,      0.2002,      0.2012,      0.2022,      0.2032,      0.2042,     0.20521,     0.20621,     0.20721,     0.20821,     0.20921,     0.21021,     0.21121,     0.21221,     0.21321,     0.21421,     0.21522,\n",
       "           0.21622,     0.21722,     0.21822,     0.21922,     0.22022,     0.22122,     0.22222,     0.22322,     0.22422,     0.22523,     0.22623,     0.22723,     0.22823,     0.22923,     0.23023,     0.23123,     0.23223,     0.23323,     0.23423,     0.23524,     0.23624,     0.23724,     0.23824,     0.23924,\n",
       "           0.24024,     0.24124,     0.24224,     0.24324,     0.24424,     0.24525,     0.24625,     0.24725,     0.24825,     0.24925,     0.25025,     0.25125,     0.25225,     0.25325,     0.25425,     0.25526,     0.25626,     0.25726,     0.25826,     0.25926,     0.26026,     0.26126,     0.26226,     0.26326,\n",
       "           0.26426,     0.26527,     0.26627,     0.26727,     0.26827,     0.26927,     0.27027,     0.27127,     0.27227,     0.27327,     0.27427,     0.27528,     0.27628,     0.27728,     0.27828,     0.27928,     0.28028,     0.28128,     0.28228,     0.28328,     0.28428,     0.28529,     0.28629,     0.28729,\n",
       "           0.28829,     0.28929,     0.29029,     0.29129,     0.29229,     0.29329,     0.29429,      0.2953,      0.2963,      0.2973,      0.2983,      0.2993,      0.3003,      0.3013,      0.3023,      0.3033,      0.3043,     0.30531,     0.30631,     0.30731,     0.30831,     0.30931,     0.31031,     0.31131,\n",
       "           0.31231,     0.31331,     0.31431,     0.31532,     0.31632,     0.31732,     0.31832,     0.31932,     0.32032,     0.32132,     0.32232,     0.32332,     0.32432,     0.32533,     0.32633,     0.32733,     0.32833,     0.32933,     0.33033,     0.33133,     0.33233,     0.33333,     0.33433,     0.33534,\n",
       "           0.33634,     0.33734,     0.33834,     0.33934,     0.34034,     0.34134,     0.34234,     0.34334,     0.34434,     0.34535,     0.34635,     0.34735,     0.34835,     0.34935,     0.35035,     0.35135,     0.35235,     0.35335,     0.35435,     0.35536,     0.35636,     0.35736,     0.35836,     0.35936,\n",
       "           0.36036,     0.36136,     0.36236,     0.36336,     0.36436,     0.36537,     0.36637,     0.36737,     0.36837,     0.36937,     0.37037,     0.37137,     0.37237,     0.37337,     0.37437,     0.37538,     0.37638,     0.37738,     0.37838,     0.37938,     0.38038,     0.38138,     0.38238,     0.38338,\n",
       "           0.38438,     0.38539,     0.38639,     0.38739,     0.38839,     0.38939,     0.39039,     0.39139,     0.39239,     0.39339,     0.39439,      0.3954,      0.3964,      0.3974,      0.3984,      0.3994,      0.4004,      0.4014,      0.4024,      0.4034,      0.4044,     0.40541,     0.40641,     0.40741,\n",
       "           0.40841,     0.40941,     0.41041,     0.41141,     0.41241,     0.41341,     0.41441,     0.41542,     0.41642,     0.41742,     0.41842,     0.41942,     0.42042,     0.42142,     0.42242,     0.42342,     0.42442,     0.42543,     0.42643,     0.42743,     0.42843,     0.42943,     0.43043,     0.43143,\n",
       "           0.43243,     0.43343,     0.43443,     0.43544,     0.43644,     0.43744,     0.43844,     0.43944,     0.44044,     0.44144,     0.44244,     0.44344,     0.44444,     0.44545,     0.44645,     0.44745,     0.44845,     0.44945,     0.45045,     0.45145,     0.45245,     0.45345,     0.45445,     0.45546,\n",
       "           0.45646,     0.45746,     0.45846,     0.45946,     0.46046,     0.46146,     0.46246,     0.46346,     0.46446,     0.46547,     0.46647,     0.46747,     0.46847,     0.46947,     0.47047,     0.47147,     0.47247,     0.47347,     0.47447,     0.47548,     0.47648,     0.47748,     0.47848,     0.47948,\n",
       "           0.48048,     0.48148,     0.48248,     0.48348,     0.48448,     0.48549,     0.48649,     0.48749,     0.48849,     0.48949,     0.49049,     0.49149,     0.49249,     0.49349,     0.49449,      0.4955,      0.4965,      0.4975,      0.4985,      0.4995,      0.5005,      0.5015,      0.5025,      0.5035,\n",
       "            0.5045,     0.50551,     0.50651,     0.50751,     0.50851,     0.50951,     0.51051,     0.51151,     0.51251,     0.51351,     0.51451,     0.51552,     0.51652,     0.51752,     0.51852,     0.51952,     0.52052,     0.52152,     0.52252,     0.52352,     0.52452,     0.52553,     0.52653,     0.52753,\n",
       "           0.52853,     0.52953,     0.53053,     0.53153,     0.53253,     0.53353,     0.53453,     0.53554,     0.53654,     0.53754,     0.53854,     0.53954,     0.54054,     0.54154,     0.54254,     0.54354,     0.54454,     0.54555,     0.54655,     0.54755,     0.54855,     0.54955,     0.55055,     0.55155,\n",
       "           0.55255,     0.55355,     0.55455,     0.55556,     0.55656,     0.55756,     0.55856,     0.55956,     0.56056,     0.56156,     0.56256,     0.56356,     0.56456,     0.56557,     0.56657,     0.56757,     0.56857,     0.56957,     0.57057,     0.57157,     0.57257,     0.57357,     0.57457,     0.57558,\n",
       "           0.57658,     0.57758,     0.57858,     0.57958,     0.58058,     0.58158,     0.58258,     0.58358,     0.58458,     0.58559,     0.58659,     0.58759,     0.58859,     0.58959,     0.59059,     0.59159,     0.59259,     0.59359,     0.59459,      0.5956,      0.5966,      0.5976,      0.5986,      0.5996,\n",
       "            0.6006,      0.6016,      0.6026,      0.6036,      0.6046,     0.60561,     0.60661,     0.60761,     0.60861,     0.60961,     0.61061,     0.61161,     0.61261,     0.61361,     0.61461,     0.61562,     0.61662,     0.61762,     0.61862,     0.61962,     0.62062,     0.62162,     0.62262,     0.62362,\n",
       "           0.62462,     0.62563,     0.62663,     0.62763,     0.62863,     0.62963,     0.63063,     0.63163,     0.63263,     0.63363,     0.63463,     0.63564,     0.63664,     0.63764,     0.63864,     0.63964,     0.64064,     0.64164,     0.64264,     0.64364,     0.64464,     0.64565,     0.64665,     0.64765,\n",
       "           0.64865,     0.64965,     0.65065,     0.65165,     0.65265,     0.65365,     0.65465,     0.65566,     0.65666,     0.65766,     0.65866,     0.65966,     0.66066,     0.66166,     0.66266,     0.66366,     0.66466,     0.66567,     0.66667,     0.66767,     0.66867,     0.66967,     0.67067,     0.67167,\n",
       "           0.67267,     0.67367,     0.67467,     0.67568,     0.67668,     0.67768,     0.67868,     0.67968,     0.68068,     0.68168,     0.68268,     0.68368,     0.68468,     0.68569,     0.68669,     0.68769,     0.68869,     0.68969,     0.69069,     0.69169,     0.69269,     0.69369,     0.69469,      0.6957,\n",
       "            0.6967,      0.6977,      0.6987,      0.6997,      0.7007,      0.7017,      0.7027,      0.7037,      0.7047,     0.70571,     0.70671,     0.70771,     0.70871,     0.70971,     0.71071,     0.71171,     0.71271,     0.71371,     0.71471,     0.71572,     0.71672,     0.71772,     0.71872,     0.71972,\n",
       "           0.72072,     0.72172,     0.72272,     0.72372,     0.72472,     0.72573,     0.72673,     0.72773,     0.72873,     0.72973,     0.73073,     0.73173,     0.73273,     0.73373,     0.73473,     0.73574,     0.73674,     0.73774,     0.73874,     0.73974,     0.74074,     0.74174,     0.74274,     0.74374,\n",
       "           0.74474,     0.74575,     0.74675,     0.74775,     0.74875,     0.74975,     0.75075,     0.75175,     0.75275,     0.75375,     0.75475,     0.75576,     0.75676,     0.75776,     0.75876,     0.75976,     0.76076,     0.76176,     0.76276,     0.76376,     0.76476,     0.76577,     0.76677,     0.76777,\n",
       "           0.76877,     0.76977,     0.77077,     0.77177,     0.77277,     0.77377,     0.77477,     0.77578,     0.77678,     0.77778,     0.77878,     0.77978,     0.78078,     0.78178,     0.78278,     0.78378,     0.78478,     0.78579,     0.78679,     0.78779,     0.78879,     0.78979,     0.79079,     0.79179,\n",
       "           0.79279,     0.79379,     0.79479,      0.7958,      0.7968,      0.7978,      0.7988,      0.7998,      0.8008,      0.8018,      0.8028,      0.8038,      0.8048,     0.80581,     0.80681,     0.80781,     0.80881,     0.80981,     0.81081,     0.81181,     0.81281,     0.81381,     0.81481,     0.81582,\n",
       "           0.81682,     0.81782,     0.81882,     0.81982,     0.82082,     0.82182,     0.82282,     0.82382,     0.82482,     0.82583,     0.82683,     0.82783,     0.82883,     0.82983,     0.83083,     0.83183,     0.83283,     0.83383,     0.83483,     0.83584,     0.83684,     0.83784,     0.83884,     0.83984,\n",
       "           0.84084,     0.84184,     0.84284,     0.84384,     0.84484,     0.84585,     0.84685,     0.84785,     0.84885,     0.84985,     0.85085,     0.85185,     0.85285,     0.85385,     0.85485,     0.85586,     0.85686,     0.85786,     0.85886,     0.85986,     0.86086,     0.86186,     0.86286,     0.86386,\n",
       "           0.86486,     0.86587,     0.86687,     0.86787,     0.86887,     0.86987,     0.87087,     0.87187,     0.87287,     0.87387,     0.87487,     0.87588,     0.87688,     0.87788,     0.87888,     0.87988,     0.88088,     0.88188,     0.88288,     0.88388,     0.88488,     0.88589,     0.88689,     0.88789,\n",
       "           0.88889,     0.88989,     0.89089,     0.89189,     0.89289,     0.89389,     0.89489,      0.8959,      0.8969,      0.8979,      0.8989,      0.8999,      0.9009,      0.9019,      0.9029,      0.9039,      0.9049,     0.90591,     0.90691,     0.90791,     0.90891,     0.90991,     0.91091,     0.91191,\n",
       "           0.91291,     0.91391,     0.91491,     0.91592,     0.91692,     0.91792,     0.91892,     0.91992,     0.92092,     0.92192,     0.92292,     0.92392,     0.92492,     0.92593,     0.92693,     0.92793,     0.92893,     0.92993,     0.93093,     0.93193,     0.93293,     0.93393,     0.93493,     0.93594,\n",
       "           0.93694,     0.93794,     0.93894,     0.93994,     0.94094,     0.94194,     0.94294,     0.94394,     0.94494,     0.94595,     0.94695,     0.94795,     0.94895,     0.94995,     0.95095,     0.95195,     0.95295,     0.95395,     0.95495,     0.95596,     0.95696,     0.95796,     0.95896,     0.95996,\n",
       "           0.96096,     0.96196,     0.96296,     0.96396,     0.96496,     0.96597,     0.96697,     0.96797,     0.96897,     0.96997,     0.97097,     0.97197,     0.97297,     0.97397,     0.97497,     0.97598,     0.97698,     0.97798,     0.97898,     0.97998,     0.98098,     0.98198,     0.98298,     0.98398,\n",
       "           0.98498,     0.98599,     0.98699,     0.98799,     0.98899,     0.98999,     0.99099,     0.99199,     0.99299,     0.99399,     0.99499,       0.996,       0.997,       0.998,       0.999,           1]), array([[    0.11514,     0.11514,     0.14807,     0.17231,     0.19219,     0.20949,     0.22465,     0.23812,     0.25129,     0.26302,     0.27439,     0.28449,     0.29446,     0.30347,     0.31259,     0.32079,     0.32876,     0.33682,     0.34442,     0.35147,     0.35905,     0.36585,      0.3725,\n",
       "            0.37937,     0.38555,     0.39191,     0.39799,     0.40401,     0.41015,     0.41542,     0.42109,     0.42652,     0.43157,     0.43693,       0.442,     0.44702,     0.45135,     0.45563,     0.46109,     0.46534,     0.46995,     0.47477,     0.47842,     0.48319,     0.48683,     0.49109,\n",
       "            0.49525,     0.49825,     0.50256,     0.50667,     0.51022,     0.51342,     0.51787,      0.5214,      0.5248,     0.52853,     0.53214,     0.53511,     0.53836,     0.54179,      0.5449,     0.54851,     0.55137,     0.55504,     0.55781,     0.56074,     0.56344,     0.56655,      0.5701,\n",
       "            0.57322,     0.57615,     0.57934,      0.5816,     0.58468,     0.58767,     0.59069,     0.59287,     0.59567,     0.59883,      0.6013,     0.60435,     0.60655,      0.6089,     0.61208,     0.61488,     0.61809,     0.62025,     0.62257,     0.62477,     0.62706,     0.63043,     0.63224,\n",
       "            0.63463,     0.63703,     0.63915,     0.64125,      0.6435,     0.64616,      0.6487,     0.65053,     0.65294,      0.6553,     0.65755,     0.65974,     0.66098,     0.66316,     0.66512,      0.6672,     0.66887,     0.67117,     0.67337,     0.67514,     0.67777,     0.67953,     0.68221,\n",
       "            0.68364,     0.68575,     0.68736,     0.68978,     0.69102,      0.6936,      0.6951,     0.69714,      0.6993,     0.70075,     0.70308,     0.70451,     0.70596,     0.70838,     0.71017,     0.71196,     0.71335,     0.71554,     0.71708,     0.71865,     0.71971,      0.7214,      0.7228,\n",
       "            0.72428,     0.72597,     0.72743,     0.72912,     0.73057,     0.73221,     0.73368,      0.7357,     0.73726,     0.73891,      0.7407,     0.74214,     0.74391,     0.74532,     0.74684,     0.74834,     0.75015,     0.75188,     0.75354,     0.75503,     0.75554,     0.75693,     0.75823,\n",
       "            0.75937,     0.76074,     0.76264,     0.76397,     0.76539,     0.76655,     0.76721,     0.76883,     0.77034,     0.77166,     0.77302,     0.77426,     0.77506,     0.77666,     0.77818,     0.77938,     0.78006,     0.78149,     0.78249,     0.78415,     0.78468,     0.78581,     0.78721,\n",
       "            0.78786,     0.78919,     0.79046,     0.79178,     0.79274,     0.79396,     0.79522,     0.79594,     0.79713,     0.79826,     0.79878,     0.80032,     0.80186,     0.80234,      0.8038,     0.80441,     0.80567,     0.80712,     0.80781,     0.80894,     0.80969,     0.81106,     0.81203,\n",
       "            0.81361,     0.81465,     0.81502,     0.81621,     0.81678,     0.81805,     0.81873,     0.81984,     0.82043,     0.82135,     0.82206,     0.82292,     0.82352,     0.82464,     0.82525,     0.82653,     0.82721,     0.82822,     0.82871,     0.82992,     0.83055,     0.83174,     0.83242,\n",
       "            0.83358,     0.83406,     0.83462,     0.83585,     0.83642,     0.83766,     0.83844,     0.84017,     0.84085,     0.84143,     0.84264,     0.84323,     0.84463,     0.84516,     0.84554,     0.84695,     0.84718,     0.84788,     0.84882,     0.84967,     0.85098,     0.85161,     0.85199,\n",
       "            0.85302,     0.85365,     0.85425,     0.85578,     0.85613,     0.85682,     0.85744,     0.85801,     0.85931,     0.85976,     0.86023,     0.86066,       0.862,     0.86257,     0.86309,     0.86431,     0.86459,     0.86482,     0.86617,     0.86655,     0.86704,     0.86782,     0.86877,\n",
       "             0.8691,     0.86959,     0.87016,     0.87085,     0.87148,     0.87213,     0.87327,     0.87388,     0.87454,     0.87534,     0.87635,     0.87691,     0.87758,     0.87797,     0.87911,     0.87973,     0.88029,      0.8811,     0.88214,     0.88251,     0.88273,     0.88293,     0.88363,\n",
       "            0.88432,     0.88473,     0.88518,     0.88574,     0.88687,     0.88747,     0.88789,     0.88847,     0.88903,     0.88997,     0.89049,      0.8911,     0.89148,     0.89257,     0.89298,     0.89327,     0.89387,     0.89421,     0.89449,     0.89522,     0.89615,     0.89665,     0.89705,\n",
       "            0.89771,     0.89809,      0.8992,     0.89986,     0.90022,     0.90072,     0.90136,     0.90156,     0.90224,     0.90272,     0.90298,      0.9034,     0.90405,     0.90446,     0.90493,     0.90582,     0.90625,     0.90659,     0.90704,      0.9075,     0.90773,     0.90843,     0.90886,\n",
       "            0.90933,     0.91005,     0.91027,     0.91075,     0.91112,     0.91198,     0.91224,     0.91253,     0.91287,     0.91316,     0.91349,     0.91378,     0.91405,      0.9142,     0.91434,     0.91484,     0.91545,     0.91545,     0.91652,     0.91655,     0.91713,     0.91713,       0.918,\n",
       "              0.918,     0.91855,     0.91929,     0.91929,     0.92005,     0.92005,     0.92065,     0.92065,      0.9214,     0.92139,     0.92203,     0.92203,     0.92292,     0.92355,     0.92355,     0.92456,     0.92456,     0.92531,     0.92531,     0.92624,     0.92623,     0.92674,      0.9273,\n",
       "             0.9273,     0.92795,     0.92798,     0.92881,     0.92881,     0.92969,     0.92969,      0.9304,      0.9304,     0.93099,     0.93099,     0.93145,     0.93145,     0.93227,     0.93227,     0.93318,     0.93399,     0.93399,      0.9345,     0.93449,     0.93492,     0.93494,     0.93567,\n",
       "            0.93567,      0.9367,      0.9367,     0.93744,     0.93744,     0.93804,     0.93804,     0.93878,     0.93878,     0.93925,     0.93981,     0.93984,     0.94068,     0.94068,     0.94122,     0.94122,     0.94199,     0.94201,     0.94246,     0.94246,     0.94277,     0.94277,     0.94324,\n",
       "            0.94324,     0.94398,     0.94398,      0.9444,      0.9444,     0.94468,     0.94468,     0.94515,     0.94517,      0.9458,     0.94579,     0.94627,     0.94626,     0.94651,     0.94703,     0.94703,     0.94751,     0.94751,     0.94831,     0.94831,     0.94863,     0.94863,     0.94916,\n",
       "            0.94916,     0.95001,     0.95001,     0.95044,     0.95046,     0.95089,     0.95089,     0.95133,     0.95136,     0.95185,     0.95188,     0.95246,     0.95246,     0.95313,     0.95313,     0.95357,     0.95359,      0.9543,      0.9543,     0.95451,     0.95504,     0.95504,      0.9556,\n",
       "             0.9556,      0.9562,      0.9562,      0.9567,      0.9567,     0.95758,     0.95758,     0.95797,     0.95797,      0.9585,      0.9585,      0.9591,      0.9591,     0.95949,     0.95949,     0.96002,     0.96004,     0.96085,     0.96085,     0.96143,     0.96145,     0.96211,     0.96211,\n",
       "            0.96284,     0.96284,     0.96332,     0.96332,     0.96366,     0.96366,      0.9642,     0.96422,     0.96453,     0.96452,     0.96473,     0.96473,     0.96515,     0.96515,     0.96582,     0.96605,     0.96605,     0.96639,     0.96639,     0.96671,     0.96671,     0.96708,     0.96708,\n",
       "            0.96748,     0.96747,     0.96793,     0.96793,     0.96802,     0.96802,     0.96827,     0.96827,     0.96877,     0.96877,     0.96911,     0.96911,     0.96956,     0.96956,     0.96997,     0.96996,     0.97057,     0.97057,     0.97073,     0.97073,     0.97109,     0.97109,     0.97139,\n",
       "            0.97139,     0.97153,     0.97153,     0.97211,     0.97214,     0.97262,     0.97328,     0.97331,     0.97375,     0.97375,     0.97413,     0.97416,     0.97454,     0.97454,     0.97494,     0.97497,      0.9753,      0.9753,     0.97572,     0.97572,     0.97593,     0.97593,     0.97627,\n",
       "             0.9763,     0.97653,     0.97653,     0.97692,     0.97692,     0.97724,     0.97762,     0.97762,     0.97781,     0.97784,      0.9779,      0.9779,     0.97806,     0.97806,     0.97845,     0.97845,     0.97873,     0.97873,     0.97907,     0.97907,     0.97952,     0.97977,     0.97977,\n",
       "            0.98001,     0.98001,     0.98059,     0.98059,     0.98088,     0.98088,     0.98101,     0.98101,     0.98107,     0.98154,     0.98154,     0.98179,     0.98179,      0.9818,      0.9818,     0.98216,     0.98215,     0.98281,     0.98281,       0.983,       0.983,      0.9832,     0.98357,\n",
       "             0.9836,     0.98375,     0.98375,     0.98412,     0.98412,     0.98456,     0.98456,     0.98499,     0.98499,     0.98549,     0.98549,     0.98581,     0.98632,     0.98632,     0.98646,     0.98646,     0.98666,     0.98666,     0.98688,     0.98733,     0.98733,     0.98735,     0.98735,\n",
       "             0.9875,      0.9875,     0.98777,     0.98777,     0.98789,      0.9887,      0.9887,      0.9889,      0.9889,     0.98925,     0.98925,     0.98935,     0.98935,     0.98983,     0.98992,     0.98992,     0.99021,     0.99021,     0.99044,     0.99047,     0.99047,     0.99043,     0.99043,\n",
       "             0.9904,      0.9904,     0.99069,     0.99086,     0.99086,     0.99117,     0.99117,      0.9914,      0.9914,     0.99164,     0.99174,     0.99174,     0.99177,     0.99215,     0.99215,     0.99225,     0.99225,     0.99222,     0.99222,     0.99253,     0.99278,     0.99278,     0.99296,\n",
       "            0.99296,     0.99293,     0.99293,     0.99298,     0.99323,     0.99323,     0.99327,     0.99327,     0.99331,     0.99356,     0.99383,     0.99383,     0.99394,     0.99394,     0.99414,     0.99411,     0.99411,     0.99409,     0.99409,     0.99436,     0.99463,     0.99463,     0.99483,\n",
       "            0.99483,     0.99481,     0.99494,     0.99494,     0.99491,     0.99491,     0.99488,     0.99486,     0.99491,     0.99491,     0.99503,     0.99503,     0.99532,     0.99552,     0.99552,      0.9955,     0.99564,     0.99564,     0.99562,     0.99585,     0.99591,     0.99597,     0.99597,\n",
       "            0.99603,       0.996,       0.996,     0.99598,     0.99604,     0.99609,     0.99609,     0.99616,      0.9963,      0.9963,     0.99653,     0.99676,     0.99676,     0.99699,     0.99715,     0.99715,     0.99722,     0.99728,     0.99728,     0.99735,     0.99742,     0.99742,     0.99746,\n",
       "            0.99747,     0.99754,     0.99754,     0.99752,      0.9975,     0.99748,     0.99748,     0.99764,     0.99772,     0.99772,      0.9977,     0.99768,     0.99768,     0.99776,     0.99774,     0.99781,     0.99781,     0.99779,     0.99798,     0.99798,     0.99795,     0.99794,     0.99792,\n",
       "            0.99801,       0.998,     0.99809,     0.99817,     0.99826,     0.99826,     0.99824,     0.99833,     0.99853,     0.99853,     0.99863,     0.99861,     0.99871,     0.99871,     0.99869,     0.99868,     0.99865,     0.99876,     0.99874,     0.99872,     0.99872,     0.99883,     0.99881,\n",
       "            0.99893,     0.99891,     0.99891,     0.99889,     0.99901,       0.999,     0.99898,     0.99898,     0.99896,     0.99894,     0.99892,      0.9989,     0.99887,     0.99887,     0.99885,     0.99879,     0.99879,     0.99876,     0.99873,      0.9987,     0.99866,     0.99863,     0.99859,\n",
       "            0.99859,     0.99855,     0.99851,     0.99868,     0.99863,     0.99859,     0.99854,      0.9985,     0.99845,     0.99892,     0.99892,     0.99888,      0.9994,     0.99937,     0.99935,     0.99932,     0.99964,     0.99963,     0.99963,     0.99961,     0.99959,     0.99957,     0.99955,\n",
       "            0.99953,     0.99951,     0.99949,     0.99946,     0.99944,      0.9994,     0.99937,     0.99934,      0.9993,     0.99923,     0.99918,     0.99913,     0.99909,     0.99904,     0.99898,     0.99893,     0.99888,     0.99876,      0.9987,     0.99862,     0.99857,     0.99849,     0.99845,\n",
       "            0.99837,     0.99828,     0.99816,     0.99808,       0.998,     0.99791,           1,           1,           1,           1,           1,           1,           1,           1,           1,           1,           1,           1,           1,           1,           1,           1,           1,\n",
       "                  1,           1,           1,           1,           1,           1,           1,           1,           1,           1,           1,           1,           1,           1,           1,           1,           1,           1,           1,           1,           1,           1,           1,\n",
       "                  1,           1,           1,           1,           1,           1,           1,           1,           1,           1,           1,           1,           1,           1,           1,           1,           1,           1,           1,           1,           1,           1,           1,\n",
       "                  1,           1,           1,           1,           1,           1,           1,           1,           1,           1,           1,           1,           1,           1,           1,           1,           1,           1,           1,           1,           1,           1,           1,\n",
       "                  1,           1,           1,           1,           1,           1,           1,           1,           1,           1,           1,           1,           1,           1,           1,           1,           1,           1,           1,           1,           1,           1,           1,\n",
       "                  1,           1,           1,           1,           1,           1,           1,           1,           1,           1,           1]]), 'Confidence', 'Precision'], [array([          0,    0.001001,    0.002002,    0.003003,    0.004004,    0.005005,    0.006006,    0.007007,    0.008008,    0.009009,     0.01001,    0.011011,    0.012012,    0.013013,    0.014014,    0.015015,    0.016016,    0.017017,    0.018018,    0.019019,     0.02002,    0.021021,    0.022022,    0.023023,\n",
       "          0.024024,    0.025025,    0.026026,    0.027027,    0.028028,    0.029029,     0.03003,    0.031031,    0.032032,    0.033033,    0.034034,    0.035035,    0.036036,    0.037037,    0.038038,    0.039039,     0.04004,    0.041041,    0.042042,    0.043043,    0.044044,    0.045045,    0.046046,    0.047047,\n",
       "          0.048048,    0.049049,     0.05005,    0.051051,    0.052052,    0.053053,    0.054054,    0.055055,    0.056056,    0.057057,    0.058058,    0.059059,     0.06006,    0.061061,    0.062062,    0.063063,    0.064064,    0.065065,    0.066066,    0.067067,    0.068068,    0.069069,     0.07007,    0.071071,\n",
       "          0.072072,    0.073073,    0.074074,    0.075075,    0.076076,    0.077077,    0.078078,    0.079079,     0.08008,    0.081081,    0.082082,    0.083083,    0.084084,    0.085085,    0.086086,    0.087087,    0.088088,    0.089089,     0.09009,    0.091091,    0.092092,    0.093093,    0.094094,    0.095095,\n",
       "          0.096096,    0.097097,    0.098098,    0.099099,      0.1001,      0.1011,      0.1021,      0.1031,      0.1041,     0.10511,     0.10611,     0.10711,     0.10811,     0.10911,     0.11011,     0.11111,     0.11211,     0.11311,     0.11411,     0.11512,     0.11612,     0.11712,     0.11812,     0.11912,\n",
       "           0.12012,     0.12112,     0.12212,     0.12312,     0.12412,     0.12513,     0.12613,     0.12713,     0.12813,     0.12913,     0.13013,     0.13113,     0.13213,     0.13313,     0.13413,     0.13514,     0.13614,     0.13714,     0.13814,     0.13914,     0.14014,     0.14114,     0.14214,     0.14314,\n",
       "           0.14414,     0.14515,     0.14615,     0.14715,     0.14815,     0.14915,     0.15015,     0.15115,     0.15215,     0.15315,     0.15415,     0.15516,     0.15616,     0.15716,     0.15816,     0.15916,     0.16016,     0.16116,     0.16216,     0.16316,     0.16416,     0.16517,     0.16617,     0.16717,\n",
       "           0.16817,     0.16917,     0.17017,     0.17117,     0.17217,     0.17317,     0.17417,     0.17518,     0.17618,     0.17718,     0.17818,     0.17918,     0.18018,     0.18118,     0.18218,     0.18318,     0.18418,     0.18519,     0.18619,     0.18719,     0.18819,     0.18919,     0.19019,     0.19119,\n",
       "           0.19219,     0.19319,     0.19419,      0.1952,      0.1962,      0.1972,      0.1982,      0.1992,      0.2002,      0.2012,      0.2022,      0.2032,      0.2042,     0.20521,     0.20621,     0.20721,     0.20821,     0.20921,     0.21021,     0.21121,     0.21221,     0.21321,     0.21421,     0.21522,\n",
       "           0.21622,     0.21722,     0.21822,     0.21922,     0.22022,     0.22122,     0.22222,     0.22322,     0.22422,     0.22523,     0.22623,     0.22723,     0.22823,     0.22923,     0.23023,     0.23123,     0.23223,     0.23323,     0.23423,     0.23524,     0.23624,     0.23724,     0.23824,     0.23924,\n",
       "           0.24024,     0.24124,     0.24224,     0.24324,     0.24424,     0.24525,     0.24625,     0.24725,     0.24825,     0.24925,     0.25025,     0.25125,     0.25225,     0.25325,     0.25425,     0.25526,     0.25626,     0.25726,     0.25826,     0.25926,     0.26026,     0.26126,     0.26226,     0.26326,\n",
       "           0.26426,     0.26527,     0.26627,     0.26727,     0.26827,     0.26927,     0.27027,     0.27127,     0.27227,     0.27327,     0.27427,     0.27528,     0.27628,     0.27728,     0.27828,     0.27928,     0.28028,     0.28128,     0.28228,     0.28328,     0.28428,     0.28529,     0.28629,     0.28729,\n",
       "           0.28829,     0.28929,     0.29029,     0.29129,     0.29229,     0.29329,     0.29429,      0.2953,      0.2963,      0.2973,      0.2983,      0.2993,      0.3003,      0.3013,      0.3023,      0.3033,      0.3043,     0.30531,     0.30631,     0.30731,     0.30831,     0.30931,     0.31031,     0.31131,\n",
       "           0.31231,     0.31331,     0.31431,     0.31532,     0.31632,     0.31732,     0.31832,     0.31932,     0.32032,     0.32132,     0.32232,     0.32332,     0.32432,     0.32533,     0.32633,     0.32733,     0.32833,     0.32933,     0.33033,     0.33133,     0.33233,     0.33333,     0.33433,     0.33534,\n",
       "           0.33634,     0.33734,     0.33834,     0.33934,     0.34034,     0.34134,     0.34234,     0.34334,     0.34434,     0.34535,     0.34635,     0.34735,     0.34835,     0.34935,     0.35035,     0.35135,     0.35235,     0.35335,     0.35435,     0.35536,     0.35636,     0.35736,     0.35836,     0.35936,\n",
       "           0.36036,     0.36136,     0.36236,     0.36336,     0.36436,     0.36537,     0.36637,     0.36737,     0.36837,     0.36937,     0.37037,     0.37137,     0.37237,     0.37337,     0.37437,     0.37538,     0.37638,     0.37738,     0.37838,     0.37938,     0.38038,     0.38138,     0.38238,     0.38338,\n",
       "           0.38438,     0.38539,     0.38639,     0.38739,     0.38839,     0.38939,     0.39039,     0.39139,     0.39239,     0.39339,     0.39439,      0.3954,      0.3964,      0.3974,      0.3984,      0.3994,      0.4004,      0.4014,      0.4024,      0.4034,      0.4044,     0.40541,     0.40641,     0.40741,\n",
       "           0.40841,     0.40941,     0.41041,     0.41141,     0.41241,     0.41341,     0.41441,     0.41542,     0.41642,     0.41742,     0.41842,     0.41942,     0.42042,     0.42142,     0.42242,     0.42342,     0.42442,     0.42543,     0.42643,     0.42743,     0.42843,     0.42943,     0.43043,     0.43143,\n",
       "           0.43243,     0.43343,     0.43443,     0.43544,     0.43644,     0.43744,     0.43844,     0.43944,     0.44044,     0.44144,     0.44244,     0.44344,     0.44444,     0.44545,     0.44645,     0.44745,     0.44845,     0.44945,     0.45045,     0.45145,     0.45245,     0.45345,     0.45445,     0.45546,\n",
       "           0.45646,     0.45746,     0.45846,     0.45946,     0.46046,     0.46146,     0.46246,     0.46346,     0.46446,     0.46547,     0.46647,     0.46747,     0.46847,     0.46947,     0.47047,     0.47147,     0.47247,     0.47347,     0.47447,     0.47548,     0.47648,     0.47748,     0.47848,     0.47948,\n",
       "           0.48048,     0.48148,     0.48248,     0.48348,     0.48448,     0.48549,     0.48649,     0.48749,     0.48849,     0.48949,     0.49049,     0.49149,     0.49249,     0.49349,     0.49449,      0.4955,      0.4965,      0.4975,      0.4985,      0.4995,      0.5005,      0.5015,      0.5025,      0.5035,\n",
       "            0.5045,     0.50551,     0.50651,     0.50751,     0.50851,     0.50951,     0.51051,     0.51151,     0.51251,     0.51351,     0.51451,     0.51552,     0.51652,     0.51752,     0.51852,     0.51952,     0.52052,     0.52152,     0.52252,     0.52352,     0.52452,     0.52553,     0.52653,     0.52753,\n",
       "           0.52853,     0.52953,     0.53053,     0.53153,     0.53253,     0.53353,     0.53453,     0.53554,     0.53654,     0.53754,     0.53854,     0.53954,     0.54054,     0.54154,     0.54254,     0.54354,     0.54454,     0.54555,     0.54655,     0.54755,     0.54855,     0.54955,     0.55055,     0.55155,\n",
       "           0.55255,     0.55355,     0.55455,     0.55556,     0.55656,     0.55756,     0.55856,     0.55956,     0.56056,     0.56156,     0.56256,     0.56356,     0.56456,     0.56557,     0.56657,     0.56757,     0.56857,     0.56957,     0.57057,     0.57157,     0.57257,     0.57357,     0.57457,     0.57558,\n",
       "           0.57658,     0.57758,     0.57858,     0.57958,     0.58058,     0.58158,     0.58258,     0.58358,     0.58458,     0.58559,     0.58659,     0.58759,     0.58859,     0.58959,     0.59059,     0.59159,     0.59259,     0.59359,     0.59459,      0.5956,      0.5966,      0.5976,      0.5986,      0.5996,\n",
       "            0.6006,      0.6016,      0.6026,      0.6036,      0.6046,     0.60561,     0.60661,     0.60761,     0.60861,     0.60961,     0.61061,     0.61161,     0.61261,     0.61361,     0.61461,     0.61562,     0.61662,     0.61762,     0.61862,     0.61962,     0.62062,     0.62162,     0.62262,     0.62362,\n",
       "           0.62462,     0.62563,     0.62663,     0.62763,     0.62863,     0.62963,     0.63063,     0.63163,     0.63263,     0.63363,     0.63463,     0.63564,     0.63664,     0.63764,     0.63864,     0.63964,     0.64064,     0.64164,     0.64264,     0.64364,     0.64464,     0.64565,     0.64665,     0.64765,\n",
       "           0.64865,     0.64965,     0.65065,     0.65165,     0.65265,     0.65365,     0.65465,     0.65566,     0.65666,     0.65766,     0.65866,     0.65966,     0.66066,     0.66166,     0.66266,     0.66366,     0.66466,     0.66567,     0.66667,     0.66767,     0.66867,     0.66967,     0.67067,     0.67167,\n",
       "           0.67267,     0.67367,     0.67467,     0.67568,     0.67668,     0.67768,     0.67868,     0.67968,     0.68068,     0.68168,     0.68268,     0.68368,     0.68468,     0.68569,     0.68669,     0.68769,     0.68869,     0.68969,     0.69069,     0.69169,     0.69269,     0.69369,     0.69469,      0.6957,\n",
       "            0.6967,      0.6977,      0.6987,      0.6997,      0.7007,      0.7017,      0.7027,      0.7037,      0.7047,     0.70571,     0.70671,     0.70771,     0.70871,     0.70971,     0.71071,     0.71171,     0.71271,     0.71371,     0.71471,     0.71572,     0.71672,     0.71772,     0.71872,     0.71972,\n",
       "           0.72072,     0.72172,     0.72272,     0.72372,     0.72472,     0.72573,     0.72673,     0.72773,     0.72873,     0.72973,     0.73073,     0.73173,     0.73273,     0.73373,     0.73473,     0.73574,     0.73674,     0.73774,     0.73874,     0.73974,     0.74074,     0.74174,     0.74274,     0.74374,\n",
       "           0.74474,     0.74575,     0.74675,     0.74775,     0.74875,     0.74975,     0.75075,     0.75175,     0.75275,     0.75375,     0.75475,     0.75576,     0.75676,     0.75776,     0.75876,     0.75976,     0.76076,     0.76176,     0.76276,     0.76376,     0.76476,     0.76577,     0.76677,     0.76777,\n",
       "           0.76877,     0.76977,     0.77077,     0.77177,     0.77277,     0.77377,     0.77477,     0.77578,     0.77678,     0.77778,     0.77878,     0.77978,     0.78078,     0.78178,     0.78278,     0.78378,     0.78478,     0.78579,     0.78679,     0.78779,     0.78879,     0.78979,     0.79079,     0.79179,\n",
       "           0.79279,     0.79379,     0.79479,      0.7958,      0.7968,      0.7978,      0.7988,      0.7998,      0.8008,      0.8018,      0.8028,      0.8038,      0.8048,     0.80581,     0.80681,     0.80781,     0.80881,     0.80981,     0.81081,     0.81181,     0.81281,     0.81381,     0.81481,     0.81582,\n",
       "           0.81682,     0.81782,     0.81882,     0.81982,     0.82082,     0.82182,     0.82282,     0.82382,     0.82482,     0.82583,     0.82683,     0.82783,     0.82883,     0.82983,     0.83083,     0.83183,     0.83283,     0.83383,     0.83483,     0.83584,     0.83684,     0.83784,     0.83884,     0.83984,\n",
       "           0.84084,     0.84184,     0.84284,     0.84384,     0.84484,     0.84585,     0.84685,     0.84785,     0.84885,     0.84985,     0.85085,     0.85185,     0.85285,     0.85385,     0.85485,     0.85586,     0.85686,     0.85786,     0.85886,     0.85986,     0.86086,     0.86186,     0.86286,     0.86386,\n",
       "           0.86486,     0.86587,     0.86687,     0.86787,     0.86887,     0.86987,     0.87087,     0.87187,     0.87287,     0.87387,     0.87487,     0.87588,     0.87688,     0.87788,     0.87888,     0.87988,     0.88088,     0.88188,     0.88288,     0.88388,     0.88488,     0.88589,     0.88689,     0.88789,\n",
       "           0.88889,     0.88989,     0.89089,     0.89189,     0.89289,     0.89389,     0.89489,      0.8959,      0.8969,      0.8979,      0.8989,      0.8999,      0.9009,      0.9019,      0.9029,      0.9039,      0.9049,     0.90591,     0.90691,     0.90791,     0.90891,     0.90991,     0.91091,     0.91191,\n",
       "           0.91291,     0.91391,     0.91491,     0.91592,     0.91692,     0.91792,     0.91892,     0.91992,     0.92092,     0.92192,     0.92292,     0.92392,     0.92492,     0.92593,     0.92693,     0.92793,     0.92893,     0.92993,     0.93093,     0.93193,     0.93293,     0.93393,     0.93493,     0.93594,\n",
       "           0.93694,     0.93794,     0.93894,     0.93994,     0.94094,     0.94194,     0.94294,     0.94394,     0.94494,     0.94595,     0.94695,     0.94795,     0.94895,     0.94995,     0.95095,     0.95195,     0.95295,     0.95395,     0.95495,     0.95596,     0.95696,     0.95796,     0.95896,     0.95996,\n",
       "           0.96096,     0.96196,     0.96296,     0.96396,     0.96496,     0.96597,     0.96697,     0.96797,     0.96897,     0.96997,     0.97097,     0.97197,     0.97297,     0.97397,     0.97497,     0.97598,     0.97698,     0.97798,     0.97898,     0.97998,     0.98098,     0.98198,     0.98298,     0.98398,\n",
       "           0.98498,     0.98599,     0.98699,     0.98799,     0.98899,     0.98999,     0.99099,     0.99199,     0.99299,     0.99399,     0.99499,       0.996,       0.997,       0.998,       0.999,           1]), array([[    0.71615,     0.71615,     0.71393,     0.71191,     0.71015,     0.70821,     0.70695,     0.70559,     0.70451,     0.70313,     0.70159,     0.70066,     0.69968,     0.69877,     0.69799,     0.69675,     0.69597,     0.69499,     0.69413,     0.69325,     0.69232,     0.69139,     0.69063,\n",
       "            0.68993,     0.68927,     0.68827,     0.68751,     0.68673,     0.68587,     0.68522,     0.68446,     0.68386,     0.68315,     0.68253,     0.68197,     0.68119,     0.68033,     0.67983,     0.67897,     0.67837,     0.67784,     0.67739,     0.67671,     0.67572,     0.67487,     0.67419,\n",
       "            0.67374,     0.67318,     0.67255,     0.67215,     0.67157,     0.67107,     0.67041,     0.66991,      0.6692,      0.6685,     0.66804,     0.66754,     0.66704,     0.66646,     0.66595,     0.66527,     0.66482,     0.66434,     0.66374,     0.66321,     0.66273,     0.66225,     0.66165,\n",
       "            0.66122,     0.66056,     0.65981,     0.65961,     0.65918,     0.65852,     0.65794,     0.65757,     0.65706,     0.65648,     0.65601,     0.65543,     0.65485,     0.65444,     0.65374,     0.65334,     0.65291,     0.65245,     0.65198,     0.65147,     0.65097,     0.65034,     0.64973,\n",
       "            0.64926,      0.6488,     0.64815,     0.64764,     0.64712,     0.64648,     0.64601,     0.64578,     0.64525,     0.64465,     0.64434,     0.64387,     0.64354,     0.64309,     0.64253,     0.64218,      0.6417,     0.64115,     0.64049,     0.64009,     0.63953,     0.63916,     0.63865,\n",
       "            0.63822,     0.63752,     0.63727,     0.63664,     0.63624,     0.63566,     0.63533,      0.6349,     0.63422,     0.63372,     0.63319,      0.6328,     0.63254,     0.63153,     0.63125,     0.63097,     0.63052,     0.63007,     0.62974,      0.6294,     0.62901,     0.62845,     0.62792,\n",
       "            0.62752,     0.62712,     0.62664,     0.62619,     0.62586,     0.62548,     0.62518,     0.62455,     0.62422,     0.62387,     0.62342,     0.62296,     0.62248,     0.62216,     0.62183,     0.62125,     0.62092,     0.62044,     0.61994,     0.61956,     0.61926,     0.61861,     0.61813,\n",
       "             0.6178,     0.61725,     0.61682,     0.61647,     0.61598,     0.61551,     0.61528,     0.61496,     0.61453,     0.61395,     0.61357,     0.61322,     0.61302,     0.61264,     0.61216,     0.61186,     0.61158,     0.61125,     0.61087,     0.61042,     0.61017,     0.60957,     0.60911,\n",
       "            0.60891,     0.60841,      0.6077,     0.60717,      0.6069,     0.60626,     0.60566,     0.60549,     0.60506,     0.60447,     0.60413,     0.60371,     0.60317,     0.60299,     0.60243,     0.60219,     0.60188,     0.60153,      0.6013,     0.60073,      0.6004,     0.59984,     0.59947,\n",
       "            0.59892,     0.59841,     0.59799,     0.59758,     0.59722,      0.5967,     0.59629,     0.59579,     0.59561,     0.59521,     0.59501,     0.59445,      0.5942,     0.59388,     0.59362,     0.59312,     0.59287,     0.59239,     0.59215,     0.59168,     0.59146,     0.59095,     0.59063,\n",
       "            0.58987,     0.58963,     0.58934,     0.58884,     0.58864,     0.58815,     0.58783,     0.58725,     0.58706,     0.58685,     0.58632,     0.58604,     0.58556,     0.58533,     0.58484,     0.58438,     0.58408,     0.58395,     0.58325,     0.58292,     0.58229,     0.58214,     0.58194,\n",
       "            0.58143,     0.58121,     0.58098,     0.58038,     0.58002,     0.57965,     0.57919,     0.57894,     0.57854,     0.57838,     0.57824,     0.57806,     0.57748,     0.57726,     0.57695,     0.57639,     0.57609,     0.57574,     0.57521,     0.57498,     0.57456,     0.57413,     0.57332,\n",
       "            0.57303,     0.57272,     0.57249,     0.57191,     0.57161,     0.57136,     0.57078,     0.57053,     0.57025,     0.56998,     0.56935,     0.56913,     0.56888,     0.56859,     0.56811,     0.56772,     0.56751,     0.56718,      0.5666,     0.56619,     0.56586,     0.56547,     0.56511,\n",
       "            0.56441,     0.56416,     0.56381,     0.56346,     0.56287,     0.56242,     0.56214,     0.56182,     0.56152,     0.56096,     0.56072,      0.5604,     0.56006,      0.5595,     0.55917,     0.55878,     0.55839,     0.55804,     0.55771,     0.55748,       0.557,     0.55665,     0.55626,\n",
       "            0.55595,     0.55552,     0.55491,     0.55464,     0.55429,     0.55393,     0.55353,     0.55308,      0.5525,     0.55217,     0.55176,     0.55135,     0.55099,     0.55071,     0.55041,     0.54982,     0.54944,     0.54898,     0.54848,      0.5483,     0.54786,     0.54716,     0.54673,\n",
       "             0.5465,     0.54604,     0.54573,     0.54542,     0.54507,     0.54459,     0.54426,     0.54386,      0.5433,     0.54289,     0.54251,     0.54217,     0.54187,     0.54149,     0.54114,     0.54031,     0.53965,     0.53964,     0.53887,     0.53887,     0.53818,     0.53817,      0.5374,\n",
       "            0.53739,     0.53649,     0.53587,     0.53586,     0.53501,       0.535,     0.53416,     0.53414,     0.53345,     0.53343,     0.53249,     0.53248,     0.53175,     0.53091,      0.5309,     0.53025,     0.53024,     0.52945,     0.52943,     0.52874,     0.52873,     0.52793,     0.52714,\n",
       "            0.52712,     0.52646,     0.52646,     0.52575,     0.52573,     0.52481,      0.5248,     0.52383,     0.52382,     0.52325,     0.52324,     0.52219,     0.52218,     0.52138,     0.52137,     0.52055,     0.51991,     0.51989,     0.51918,     0.51916,     0.51804,     0.51804,     0.51726,\n",
       "            0.51724,     0.51655,     0.51654,      0.5159,     0.51588,     0.51509,     0.51508,     0.51403,     0.51402,     0.51322,      0.5124,      0.5124,     0.51162,     0.51161,     0.51054,     0.51052,     0.50988,     0.50988,     0.50902,     0.50901,     0.50822,      0.5082,     0.50726,\n",
       "            0.50724,     0.50632,     0.50631,     0.50564,     0.50563,     0.50494,     0.50493,     0.50409,     0.50409,     0.50315,     0.50314,     0.50204,     0.50203,     0.50091,     0.50021,      0.5002,     0.49921,     0.49919,     0.49852,     0.49851,     0.49759,     0.49758,     0.49648,\n",
       "            0.49647,     0.49532,     0.49531,     0.49442,     0.49442,     0.49348,     0.49347,     0.49263,     0.49263,     0.49175,     0.49175,     0.49099,     0.49097,     0.49008,     0.49007,     0.48903,     0.48903,     0.48804,     0.48803,     0.48726,     0.48626,     0.48625,     0.48515,\n",
       "            0.48514,     0.48382,      0.4838,     0.48304,     0.48302,      0.4821,     0.48209,     0.48107,     0.48106,     0.47991,      0.4799,       0.479,     0.47899,     0.47785,     0.47783,     0.47699,     0.47699,     0.47595,     0.47594,     0.47503,     0.47503,     0.47391,      0.4739,\n",
       "            0.47308,     0.47307,     0.47225,     0.47224,     0.47152,     0.47151,     0.47045,     0.47045,     0.46973,     0.46972,     0.46839,     0.46838,     0.46736,     0.46735,      0.4661,     0.46513,     0.46512,     0.46412,     0.46411,     0.46294,     0.46293,     0.46173,     0.46172,\n",
       "            0.46072,     0.46071,     0.45981,      0.4598,     0.45891,     0.45889,     0.45803,     0.45801,     0.45707,     0.45705,     0.45596,     0.45595,     0.45477,     0.45476,     0.45384,     0.45383,     0.45266,     0.45264,     0.45185,     0.45184,     0.45084,     0.45083,     0.44971,\n",
       "             0.4497,     0.44868,     0.44866,     0.44733,     0.44733,      0.4464,     0.44564,     0.44564,     0.44473,     0.44471,     0.44355,     0.44355,     0.44243,     0.44242,     0.44158,     0.44158,     0.44049,     0.44048,     0.43928,     0.43927,     0.43815,     0.43814,     0.43677,\n",
       "            0.43677,     0.43593,     0.43592,     0.43485,     0.43484,     0.43366,     0.43237,     0.43235,     0.43138,     0.43138,     0.43014,     0.43013,     0.42886,     0.42884,     0.42772,     0.42771,     0.42649,     0.42648,     0.42533,     0.42532,     0.42402,     0.42317,     0.42316,\n",
       "            0.42219,     0.42217,     0.42113,     0.42112,     0.41994,     0.41993,     0.41886,     0.41885,     0.41775,     0.41655,     0.41654,     0.41547,     0.41545,     0.41428,     0.41427,     0.41307,     0.41306,     0.41184,     0.41182,     0.41057,     0.41056,     0.40964,     0.40847,\n",
       "            0.40847,     0.40718,     0.40717,     0.40582,      0.4058,     0.40463,     0.40462,     0.40314,     0.40313,     0.40198,     0.40197,      0.4008,     0.39937,     0.39936,     0.39821,      0.3982,     0.39685,     0.39683,     0.39591,     0.39456,     0.39455,     0.39318,     0.39316,\n",
       "            0.39186,     0.39185,     0.39048,     0.39046,     0.38925,     0.38789,     0.38788,     0.38602,     0.38601,     0.38471,      0.3847,     0.38352,     0.38351,     0.38249,     0.38104,     0.38102,     0.37967,     0.37966,     0.37814,     0.37699,     0.37697,     0.37545,     0.37543,\n",
       "            0.37398,     0.37397,     0.37264,     0.37144,     0.37143,     0.37026,     0.37024,     0.36861,      0.3686,     0.36722,     0.36582,     0.36581,     0.36413,     0.36276,     0.36274,     0.36119,     0.36118,     0.35975,     0.35974,     0.35829,     0.35676,     0.35675,     0.35502,\n",
       "              0.355,     0.35373,     0.35372,     0.35249,     0.35084,     0.35082,      0.3493,     0.34928,     0.34786,       0.346,     0.34457,     0.34456,     0.34306,     0.34304,     0.34177,     0.34029,     0.34028,     0.33878,     0.33876,     0.33754,     0.33611,      0.3361,      0.3347,\n",
       "            0.33468,     0.33333,     0.33172,     0.33171,     0.32975,     0.32974,     0.32799,     0.32633,     0.32475,     0.32474,     0.32288,     0.32287,     0.32142,     0.31931,     0.31929,     0.31774,     0.31629,     0.31627,     0.31459,     0.31309,     0.31309,     0.31112,     0.31111,\n",
       "            0.30933,     0.30747,     0.30745,      0.3054,     0.30382,     0.30191,     0.30189,     0.30047,     0.29826,     0.29824,     0.29654,     0.29445,     0.29444,      0.2923,      0.2906,     0.29058,     0.28883,     0.28652,      0.2865,     0.28449,     0.28246,     0.28244,     0.28033,\n",
       "            0.27785,     0.27582,      0.2758,     0.27347,     0.27101,     0.26874,     0.26872,     0.26662,     0.26406,     0.26404,     0.26191,     0.25947,     0.25945,     0.25747,     0.25519,     0.25282,      0.2528,     0.25062,     0.24834,     0.24832,     0.24575,     0.24379,     0.24189,\n",
       "            0.23938,     0.23936,     0.23674,     0.23405,     0.23124,     0.23122,     0.22856,     0.22589,     0.22298,     0.22296,     0.21979,      0.2175,     0.21462,      0.2146,     0.21165,     0.20884,     0.20562,      0.2028,     0.19954,     0.19714,     0.19713,     0.19388,     0.19094,\n",
       "            0.18792,      0.1847,     0.18468,     0.18176,     0.17847,     0.17571,     0.17238,     0.17237,     0.16982,     0.16623,     0.16288,     0.15946,     0.15596,     0.15594,     0.15249,     0.14559,     0.14557,     0.14205,     0.13865,     0.13548,     0.13176,     0.12808,     0.12504,\n",
       "            0.12502,     0.12155,     0.11825,     0.11391,      0.1105,     0.10713,     0.10362,     0.10068,    0.097252,    0.093603,    0.093586,    0.090009,     0.08341,    0.080035,    0.077063,    0.073864,    0.070791,    0.067341,    0.067324,    0.064404,    0.061759,    0.058913,    0.056369,\n",
       "           0.053799,    0.051456,    0.049088,     0.04662,    0.044579,    0.042161,    0.039994,    0.038105,    0.036115,    0.032588,    0.030636,    0.029048,    0.027537,    0.026075,    0.024715,    0.023556,    0.022447,    0.020268,    0.019335,    0.018252,    0.017622,    0.016706,    0.016248,\n",
       "           0.015391,    0.014635,     0.01369,    0.013085,    0.012594,    0.012013,    0.011055,    0.010399,   0.0099838,   0.0096306,    0.008887,   0.0085805,   0.0081177,   0.0077896,    0.007172,   0.0068881,   0.0066041,   0.0062886,   0.0059273,   0.0057459,   0.0055942,   0.0050269,   0.0047638,\n",
       "           0.004396,   0.0041568,   0.0040296,   0.0038652,   0.0036002,   0.0034466,   0.0032212,   0.0031671,   0.0028925,    0.002686,   0.0025512,   0.0023813,   0.0022604,   0.0022277,   0.0020828,   0.0019733,   0.0018713,   0.0017661,   0.0016925,   0.0016299,   0.0016127,   0.0014621,   0.0013222,\n",
       "          0.0013008,   0.0012838,   0.0012709,   0.0012543,    0.001183,   0.0011772,   0.0011715,   0.0011658,     0.00116,   0.0011491,   0.0011362,   0.0010679,  0.00099109,  0.00097609,  0.00096871,  0.00096134,  0.00095396,  0.00094659,  0.00093921,  0.00093184,   0.0009002,  0.00089374,  0.00088729,\n",
       "          0.0008798,  0.00086259,  0.00083994,  0.00079716,  0.00076312,  0.00073731,  0.00071778,  0.00070241,  0.00069208,  0.00068176,  0.00067464,  0.00066818,  0.00066173,  0.00065528,  0.00064882,  0.00064237,  0.00063591,   0.0006284,  0.00057002,  0.00055033,  0.00047788,  0.00047143,  0.00046497,\n",
       "         0.00045852,   0.0004483,  0.00042249,  0.00040044,  0.00039011,  0.00037979,  0.00033182,  0.00029781,  0.00028491,  0.00023173,   0.0002189,  0.00021029,  0.00020169,  0.00019141,  0.00018108,  0.00014861,  0.00012303,  0.00011787,   0.0001127,  0.00010754,  0.00010238,  9.5703e-05,  8.8328e-05,\n",
       "         8.0952e-05,  7.4295e-05,  6.9602e-05,  6.4908e-05,  6.0214e-05,  5.5521e-05,  5.0827e-05,  3.8722e-05,  2.5815e-05,           0,           0]]), 'Confidence', 'Recall']]\n",
       "fitness: 0.396765747344325\n",
       "keys: ['metrics/precision(B)', 'metrics/recall(B)', 'metrics/mAP50(B)', 'metrics/mAP50-95(B)']\n",
       "maps: array([    0.36688])\n",
       "names: {0: 'face'}\n",
       "nt_per_class: array([39707])\n",
       "nt_per_image: array([3226])\n",
       "results_dict: {'metrics/precision(B)': 0.8509756017232611, 'metrics/recall(B)': 0.5822902762737049, 'metrics/mAP50(B)': 0.6657781604136632, 'metrics/mAP50-95(B)': 0.36687547922550967, 'fitness': 0.396765747344325}\n",
       "save_dir: PosixPath('face-yolov8/tuned3')\n",
       "speed: {'preprocess': 0.11724438840561506, 'inference': 3.243661985424557, 'loss': 0.00035816367605767636, 'postprocess': 1.2065987631761796}\n",
       "stats: {'tp': [], 'conf': [], 'pred_cls': [], 'target_cls': [], 'target_img': []}\n",
       "task: 'detect'"
      ]
     },
     "execution_count": 4,
     "metadata": {},
     "output_type": "execute_result"
    }
   ],
   "source": [
    "from ultralytics import YOLO\n",
    "\n",
    "model = YOLO(\"yolov8s.yaml\")\n",
    "\n",
    "model.train(\n",
    "    pretrained=False,\n",
    "    data=\"/kaggle/input/wider-face-dataset-for-yolov12-format/data.yaml\",\n",
    "    epochs=50,\n",
    "    imgsz=640,\n",
    "    batch=16,\n",
    "    device=0,\n",
    "    workers=2,\n",
    "    project=\"face-yolov8\",\n",
    "    name=\"tuned\",\n",
    "\n",
    "    # Optimization\n",
    "    lr0=0.005,\n",
    "    lrf=0.01,\n",
    "    weight_decay=0.0005,\n",
    "    optimizer=\"SGD\",\n",
    "\n",
    "    # Training Logic\n",
    "    patience=10,\n",
    "    cos_lr=True,\n",
    "    cache=True,\n",
    "    close_mosaic=15,\n",
    "\n",
    "    # Logging & Saving\n",
    "    save=True,\n",
    "    save_period=5,\n",
    "    val=True,\n",
    "    plots=True,\n",
    "    verbose=True\n",
    ")\n"
   ]
  }
 ],
 "metadata": {
  "kaggle": {
   "accelerator": "gpu",
   "dataSources": [
    {
     "datasetId": 6834726,
     "sourceId": 10996755,
     "sourceType": "datasetVersion"
    }
   ],
   "dockerImageVersionId": 31090,
   "isGpuEnabled": true,
   "isInternetEnabled": true,
   "language": "python",
   "sourceType": "notebook"
  },
  "kernelspec": {
   "display_name": "Python 3",
   "language": "python",
   "name": "python3"
  },
  "language_info": {
   "codemirror_mode": {
    "name": "ipython",
    "version": 3
   },
   "file_extension": ".py",
   "mimetype": "text/x-python",
   "name": "python",
   "nbconvert_exporter": "python",
   "pygments_lexer": "ipython3",
   "version": "3.11.13"
  }
 },
 "nbformat": 4,
 "nbformat_minor": 4
}
